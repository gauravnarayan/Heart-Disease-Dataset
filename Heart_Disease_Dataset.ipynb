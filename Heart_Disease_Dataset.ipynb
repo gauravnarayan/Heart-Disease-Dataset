{
 "cells": [
  {
   "cell_type": "markdown",
   "metadata": {},
   "source": [
    "# Importing Libraries"
   ]
  },
  {
   "cell_type": "code",
   "execution_count": 185,
   "metadata": {},
   "outputs": [],
   "source": [
    "import numpy as np\n",
    "import pandas as pd\n",
    "import matplotlib.pylab as plt\n",
    "%matplotlib inline\n",
    "import seaborn as sns\n",
    "from sklearn.model_selection import train_test_split\n",
    "from sklearn.preprocessing import StandardScaler\n",
    "from sklearn.linear_model import LogisticRegression\n",
    "from sklearn.metrics import accuracy_score, precision_score,recall_score,confusion_matrix\n",
    "from sklearn.metrics import classification_report, confusion_matrix, accuracy_score,f1_score\n",
    "from sklearn.model_selection import cross_val_score\n",
    "from sklearn.tree import DecisionTreeClassifier\n",
    "from sklearn.model_selection import GridSearchCV\n",
    "from sklearn.metrics import roc_auc_score,roc_curve\n",
    "import warnings\n",
    "warnings.filterwarnings(\"ignore\")"
   ]
  },
  {
   "cell_type": "markdown",
   "metadata": {},
   "source": [
    "# Loading dataset"
   ]
  },
  {
   "cell_type": "code",
   "execution_count": 186,
   "metadata": {
    "scrolled": true
   },
   "outputs": [
    {
     "data": {
      "text/html": [
       "<div>\n",
       "<style scoped>\n",
       "    .dataframe tbody tr th:only-of-type {\n",
       "        vertical-align: middle;\n",
       "    }\n",
       "\n",
       "    .dataframe tbody tr th {\n",
       "        vertical-align: top;\n",
       "    }\n",
       "\n",
       "    .dataframe thead th {\n",
       "        text-align: right;\n",
       "    }\n",
       "</style>\n",
       "<table border=\"1\" class=\"dataframe\">\n",
       "  <thead>\n",
       "    <tr style=\"text-align: right;\">\n",
       "      <th></th>\n",
       "      <th>id</th>\n",
       "      <th>age</th>\n",
       "      <th>gender</th>\n",
       "      <th>height</th>\n",
       "      <th>weight</th>\n",
       "      <th>ap_hi</th>\n",
       "      <th>ap_lo</th>\n",
       "      <th>cholesterol</th>\n",
       "      <th>gluc</th>\n",
       "      <th>smoke</th>\n",
       "      <th>alco</th>\n",
       "      <th>active</th>\n",
       "      <th>cardio</th>\n",
       "    </tr>\n",
       "  </thead>\n",
       "  <tbody>\n",
       "    <tr>\n",
       "      <td>0</td>\n",
       "      <td>0</td>\n",
       "      <td>18393</td>\n",
       "      <td>2</td>\n",
       "      <td>168</td>\n",
       "      <td>62.0</td>\n",
       "      <td>110</td>\n",
       "      <td>80</td>\n",
       "      <td>1</td>\n",
       "      <td>1</td>\n",
       "      <td>0</td>\n",
       "      <td>0</td>\n",
       "      <td>1</td>\n",
       "      <td>0</td>\n",
       "    </tr>\n",
       "    <tr>\n",
       "      <td>1</td>\n",
       "      <td>1</td>\n",
       "      <td>20228</td>\n",
       "      <td>1</td>\n",
       "      <td>156</td>\n",
       "      <td>85.0</td>\n",
       "      <td>140</td>\n",
       "      <td>90</td>\n",
       "      <td>3</td>\n",
       "      <td>1</td>\n",
       "      <td>0</td>\n",
       "      <td>0</td>\n",
       "      <td>1</td>\n",
       "      <td>1</td>\n",
       "    </tr>\n",
       "    <tr>\n",
       "      <td>2</td>\n",
       "      <td>2</td>\n",
       "      <td>18857</td>\n",
       "      <td>1</td>\n",
       "      <td>165</td>\n",
       "      <td>64.0</td>\n",
       "      <td>130</td>\n",
       "      <td>70</td>\n",
       "      <td>3</td>\n",
       "      <td>1</td>\n",
       "      <td>0</td>\n",
       "      <td>0</td>\n",
       "      <td>0</td>\n",
       "      <td>1</td>\n",
       "    </tr>\n",
       "    <tr>\n",
       "      <td>3</td>\n",
       "      <td>3</td>\n",
       "      <td>17623</td>\n",
       "      <td>2</td>\n",
       "      <td>169</td>\n",
       "      <td>82.0</td>\n",
       "      <td>150</td>\n",
       "      <td>100</td>\n",
       "      <td>1</td>\n",
       "      <td>1</td>\n",
       "      <td>0</td>\n",
       "      <td>0</td>\n",
       "      <td>1</td>\n",
       "      <td>1</td>\n",
       "    </tr>\n",
       "    <tr>\n",
       "      <td>4</td>\n",
       "      <td>4</td>\n",
       "      <td>17474</td>\n",
       "      <td>1</td>\n",
       "      <td>156</td>\n",
       "      <td>56.0</td>\n",
       "      <td>100</td>\n",
       "      <td>60</td>\n",
       "      <td>1</td>\n",
       "      <td>1</td>\n",
       "      <td>0</td>\n",
       "      <td>0</td>\n",
       "      <td>0</td>\n",
       "      <td>0</td>\n",
       "    </tr>\n",
       "    <tr>\n",
       "      <td>5</td>\n",
       "      <td>8</td>\n",
       "      <td>21914</td>\n",
       "      <td>1</td>\n",
       "      <td>151</td>\n",
       "      <td>67.0</td>\n",
       "      <td>120</td>\n",
       "      <td>80</td>\n",
       "      <td>2</td>\n",
       "      <td>2</td>\n",
       "      <td>0</td>\n",
       "      <td>0</td>\n",
       "      <td>0</td>\n",
       "      <td>0</td>\n",
       "    </tr>\n",
       "    <tr>\n",
       "      <td>6</td>\n",
       "      <td>9</td>\n",
       "      <td>22113</td>\n",
       "      <td>1</td>\n",
       "      <td>157</td>\n",
       "      <td>93.0</td>\n",
       "      <td>130</td>\n",
       "      <td>80</td>\n",
       "      <td>3</td>\n",
       "      <td>1</td>\n",
       "      <td>0</td>\n",
       "      <td>0</td>\n",
       "      <td>1</td>\n",
       "      <td>0</td>\n",
       "    </tr>\n",
       "    <tr>\n",
       "      <td>7</td>\n",
       "      <td>12</td>\n",
       "      <td>22584</td>\n",
       "      <td>2</td>\n",
       "      <td>178</td>\n",
       "      <td>95.0</td>\n",
       "      <td>130</td>\n",
       "      <td>90</td>\n",
       "      <td>3</td>\n",
       "      <td>3</td>\n",
       "      <td>0</td>\n",
       "      <td>0</td>\n",
       "      <td>1</td>\n",
       "      <td>1</td>\n",
       "    </tr>\n",
       "    <tr>\n",
       "      <td>8</td>\n",
       "      <td>13</td>\n",
       "      <td>17668</td>\n",
       "      <td>1</td>\n",
       "      <td>158</td>\n",
       "      <td>71.0</td>\n",
       "      <td>110</td>\n",
       "      <td>70</td>\n",
       "      <td>1</td>\n",
       "      <td>1</td>\n",
       "      <td>0</td>\n",
       "      <td>0</td>\n",
       "      <td>1</td>\n",
       "      <td>0</td>\n",
       "    </tr>\n",
       "    <tr>\n",
       "      <td>9</td>\n",
       "      <td>14</td>\n",
       "      <td>19834</td>\n",
       "      <td>1</td>\n",
       "      <td>164</td>\n",
       "      <td>68.0</td>\n",
       "      <td>110</td>\n",
       "      <td>60</td>\n",
       "      <td>1</td>\n",
       "      <td>1</td>\n",
       "      <td>0</td>\n",
       "      <td>0</td>\n",
       "      <td>0</td>\n",
       "      <td>0</td>\n",
       "    </tr>\n",
       "  </tbody>\n",
       "</table>\n",
       "</div>"
      ],
      "text/plain": [
       "   id    age  gender  height  weight  ap_hi  ap_lo  cholesterol  gluc  smoke  \\\n",
       "0   0  18393       2     168    62.0    110     80            1     1      0   \n",
       "1   1  20228       1     156    85.0    140     90            3     1      0   \n",
       "2   2  18857       1     165    64.0    130     70            3     1      0   \n",
       "3   3  17623       2     169    82.0    150    100            1     1      0   \n",
       "4   4  17474       1     156    56.0    100     60            1     1      0   \n",
       "5   8  21914       1     151    67.0    120     80            2     2      0   \n",
       "6   9  22113       1     157    93.0    130     80            3     1      0   \n",
       "7  12  22584       2     178    95.0    130     90            3     3      0   \n",
       "8  13  17668       1     158    71.0    110     70            1     1      0   \n",
       "9  14  19834       1     164    68.0    110     60            1     1      0   \n",
       "\n",
       "   alco  active  cardio  \n",
       "0     0       1       0  \n",
       "1     0       1       1  \n",
       "2     0       0       1  \n",
       "3     0       1       1  \n",
       "4     0       0       0  \n",
       "5     0       0       0  \n",
       "6     0       1       0  \n",
       "7     0       1       1  \n",
       "8     0       1       0  \n",
       "9     0       0       0  "
      ]
     },
     "execution_count": 186,
     "metadata": {},
     "output_type": "execute_result"
    }
   ],
   "source": [
    "cardio_df = pd.read_csv('C:/Users/g500/Desktop/PythonFinal/CardioTrain.csv',sep=';')\n",
    "cardio_df.head(10)"
   ]
  },
  {
   "cell_type": "markdown",
   "metadata": {},
   "source": [
    "# Dataset Insights"
   ]
  },
  {
   "cell_type": "code",
   "execution_count": 187,
   "metadata": {},
   "outputs": [
    {
     "data": {
      "text/plain": [
       "(70000, 13)"
      ]
     },
     "execution_count": 187,
     "metadata": {},
     "output_type": "execute_result"
    }
   ],
   "source": [
    "cardio_df.shape"
   ]
  },
  {
   "cell_type": "code",
   "execution_count": 188,
   "metadata": {
    "scrolled": true
   },
   "outputs": [
    {
     "data": {
      "text/plain": [
       "array(['id', 'age', 'gender', 'height', 'weight', 'ap_hi', 'ap_lo',\n",
       "       'cholesterol', 'gluc', 'smoke', 'alco', 'active', 'cardio'],\n",
       "      dtype=object)"
      ]
     },
     "execution_count": 188,
     "metadata": {},
     "output_type": "execute_result"
    }
   ],
   "source": [
    "cardio_df.columns.values "
   ]
  },
  {
   "cell_type": "code",
   "execution_count": 189,
   "metadata": {
    "scrolled": true
   },
   "outputs": [
    {
     "name": "stdout",
     "output_type": "stream",
     "text": [
      "<class 'pandas.core.frame.DataFrame'>\n",
      "RangeIndex: 70000 entries, 0 to 69999\n",
      "Data columns (total 13 columns):\n",
      "id             70000 non-null int64\n",
      "age            70000 non-null int64\n",
      "gender         70000 non-null int64\n",
      "height         70000 non-null int64\n",
      "weight         70000 non-null float64\n",
      "ap_hi          70000 non-null int64\n",
      "ap_lo          70000 non-null int64\n",
      "cholesterol    70000 non-null int64\n",
      "gluc           70000 non-null int64\n",
      "smoke          70000 non-null int64\n",
      "alco           70000 non-null int64\n",
      "active         70000 non-null int64\n",
      "cardio         70000 non-null int64\n",
      "dtypes: float64(1), int64(12)\n",
      "memory usage: 6.9 MB\n"
     ]
    }
   ],
   "source": [
    "cardio_df.info()"
   ]
  },
  {
   "cell_type": "markdown",
   "metadata": {},
   "source": [
    "# Summary Statistics"
   ]
  },
  {
   "cell_type": "code",
   "execution_count": 190,
   "metadata": {
    "scrolled": true
   },
   "outputs": [
    {
     "data": {
      "text/html": [
       "<div>\n",
       "<style scoped>\n",
       "    .dataframe tbody tr th:only-of-type {\n",
       "        vertical-align: middle;\n",
       "    }\n",
       "\n",
       "    .dataframe tbody tr th {\n",
       "        vertical-align: top;\n",
       "    }\n",
       "\n",
       "    .dataframe thead th {\n",
       "        text-align: right;\n",
       "    }\n",
       "</style>\n",
       "<table border=\"1\" class=\"dataframe\">\n",
       "  <thead>\n",
       "    <tr style=\"text-align: right;\">\n",
       "      <th></th>\n",
       "      <th>id</th>\n",
       "      <th>age</th>\n",
       "      <th>gender</th>\n",
       "      <th>height</th>\n",
       "      <th>weight</th>\n",
       "      <th>ap_hi</th>\n",
       "      <th>ap_lo</th>\n",
       "      <th>cholesterol</th>\n",
       "      <th>gluc</th>\n",
       "      <th>smoke</th>\n",
       "      <th>alco</th>\n",
       "      <th>active</th>\n",
       "      <th>cardio</th>\n",
       "    </tr>\n",
       "  </thead>\n",
       "  <tbody>\n",
       "    <tr>\n",
       "      <td>count</td>\n",
       "      <td>70000.000000</td>\n",
       "      <td>70000.000000</td>\n",
       "      <td>70000.000000</td>\n",
       "      <td>70000.000000</td>\n",
       "      <td>70000.000000</td>\n",
       "      <td>70000.000000</td>\n",
       "      <td>70000.000000</td>\n",
       "      <td>70000.000000</td>\n",
       "      <td>70000.000000</td>\n",
       "      <td>70000.000000</td>\n",
       "      <td>70000.000000</td>\n",
       "      <td>70000.000000</td>\n",
       "      <td>70000.000000</td>\n",
       "    </tr>\n",
       "    <tr>\n",
       "      <td>mean</td>\n",
       "      <td>49972.419900</td>\n",
       "      <td>19468.865814</td>\n",
       "      <td>1.349571</td>\n",
       "      <td>164.359229</td>\n",
       "      <td>74.205690</td>\n",
       "      <td>128.817286</td>\n",
       "      <td>96.630414</td>\n",
       "      <td>1.366871</td>\n",
       "      <td>1.226457</td>\n",
       "      <td>0.088129</td>\n",
       "      <td>0.053771</td>\n",
       "      <td>0.803729</td>\n",
       "      <td>0.499700</td>\n",
       "    </tr>\n",
       "    <tr>\n",
       "      <td>std</td>\n",
       "      <td>28851.302323</td>\n",
       "      <td>2467.251667</td>\n",
       "      <td>0.476838</td>\n",
       "      <td>8.210126</td>\n",
       "      <td>14.395757</td>\n",
       "      <td>154.011419</td>\n",
       "      <td>188.472530</td>\n",
       "      <td>0.680250</td>\n",
       "      <td>0.572270</td>\n",
       "      <td>0.283484</td>\n",
       "      <td>0.225568</td>\n",
       "      <td>0.397179</td>\n",
       "      <td>0.500003</td>\n",
       "    </tr>\n",
       "    <tr>\n",
       "      <td>min</td>\n",
       "      <td>0.000000</td>\n",
       "      <td>10798.000000</td>\n",
       "      <td>1.000000</td>\n",
       "      <td>55.000000</td>\n",
       "      <td>10.000000</td>\n",
       "      <td>-150.000000</td>\n",
       "      <td>-70.000000</td>\n",
       "      <td>1.000000</td>\n",
       "      <td>1.000000</td>\n",
       "      <td>0.000000</td>\n",
       "      <td>0.000000</td>\n",
       "      <td>0.000000</td>\n",
       "      <td>0.000000</td>\n",
       "    </tr>\n",
       "    <tr>\n",
       "      <td>25%</td>\n",
       "      <td>25006.750000</td>\n",
       "      <td>17664.000000</td>\n",
       "      <td>1.000000</td>\n",
       "      <td>159.000000</td>\n",
       "      <td>65.000000</td>\n",
       "      <td>120.000000</td>\n",
       "      <td>80.000000</td>\n",
       "      <td>1.000000</td>\n",
       "      <td>1.000000</td>\n",
       "      <td>0.000000</td>\n",
       "      <td>0.000000</td>\n",
       "      <td>1.000000</td>\n",
       "      <td>0.000000</td>\n",
       "    </tr>\n",
       "    <tr>\n",
       "      <td>50%</td>\n",
       "      <td>50001.500000</td>\n",
       "      <td>19703.000000</td>\n",
       "      <td>1.000000</td>\n",
       "      <td>165.000000</td>\n",
       "      <td>72.000000</td>\n",
       "      <td>120.000000</td>\n",
       "      <td>80.000000</td>\n",
       "      <td>1.000000</td>\n",
       "      <td>1.000000</td>\n",
       "      <td>0.000000</td>\n",
       "      <td>0.000000</td>\n",
       "      <td>1.000000</td>\n",
       "      <td>0.000000</td>\n",
       "    </tr>\n",
       "    <tr>\n",
       "      <td>75%</td>\n",
       "      <td>74889.250000</td>\n",
       "      <td>21327.000000</td>\n",
       "      <td>2.000000</td>\n",
       "      <td>170.000000</td>\n",
       "      <td>82.000000</td>\n",
       "      <td>140.000000</td>\n",
       "      <td>90.000000</td>\n",
       "      <td>2.000000</td>\n",
       "      <td>1.000000</td>\n",
       "      <td>0.000000</td>\n",
       "      <td>0.000000</td>\n",
       "      <td>1.000000</td>\n",
       "      <td>1.000000</td>\n",
       "    </tr>\n",
       "    <tr>\n",
       "      <td>max</td>\n",
       "      <td>99999.000000</td>\n",
       "      <td>23713.000000</td>\n",
       "      <td>2.000000</td>\n",
       "      <td>250.000000</td>\n",
       "      <td>200.000000</td>\n",
       "      <td>16020.000000</td>\n",
       "      <td>11000.000000</td>\n",
       "      <td>3.000000</td>\n",
       "      <td>3.000000</td>\n",
       "      <td>1.000000</td>\n",
       "      <td>1.000000</td>\n",
       "      <td>1.000000</td>\n",
       "      <td>1.000000</td>\n",
       "    </tr>\n",
       "  </tbody>\n",
       "</table>\n",
       "</div>"
      ],
      "text/plain": [
       "                 id           age        gender        height        weight  \\\n",
       "count  70000.000000  70000.000000  70000.000000  70000.000000  70000.000000   \n",
       "mean   49972.419900  19468.865814      1.349571    164.359229     74.205690   \n",
       "std    28851.302323   2467.251667      0.476838      8.210126     14.395757   \n",
       "min        0.000000  10798.000000      1.000000     55.000000     10.000000   \n",
       "25%    25006.750000  17664.000000      1.000000    159.000000     65.000000   \n",
       "50%    50001.500000  19703.000000      1.000000    165.000000     72.000000   \n",
       "75%    74889.250000  21327.000000      2.000000    170.000000     82.000000   \n",
       "max    99999.000000  23713.000000      2.000000    250.000000    200.000000   \n",
       "\n",
       "              ap_hi         ap_lo   cholesterol          gluc         smoke  \\\n",
       "count  70000.000000  70000.000000  70000.000000  70000.000000  70000.000000   \n",
       "mean     128.817286     96.630414      1.366871      1.226457      0.088129   \n",
       "std      154.011419    188.472530      0.680250      0.572270      0.283484   \n",
       "min     -150.000000    -70.000000      1.000000      1.000000      0.000000   \n",
       "25%      120.000000     80.000000      1.000000      1.000000      0.000000   \n",
       "50%      120.000000     80.000000      1.000000      1.000000      0.000000   \n",
       "75%      140.000000     90.000000      2.000000      1.000000      0.000000   \n",
       "max    16020.000000  11000.000000      3.000000      3.000000      1.000000   \n",
       "\n",
       "               alco        active        cardio  \n",
       "count  70000.000000  70000.000000  70000.000000  \n",
       "mean       0.053771      0.803729      0.499700  \n",
       "std        0.225568      0.397179      0.500003  \n",
       "min        0.000000      0.000000      0.000000  \n",
       "25%        0.000000      1.000000      0.000000  \n",
       "50%        0.000000      1.000000      0.000000  \n",
       "75%        0.000000      1.000000      1.000000  \n",
       "max        1.000000      1.000000      1.000000  "
      ]
     },
     "execution_count": 190,
     "metadata": {},
     "output_type": "execute_result"
    }
   ],
   "source": [
    "cardio_df.describe() "
   ]
  },
  {
   "cell_type": "markdown",
   "metadata": {},
   "source": [
    "## Understanding Target variable"
   ]
  },
  {
   "cell_type": "code",
   "execution_count": 191,
   "metadata": {
    "scrolled": true
   },
   "outputs": [
    {
     "data": {
      "text/plain": [
       "array([0, 1], dtype=int64)"
      ]
     },
     "execution_count": 191,
     "metadata": {},
     "output_type": "execute_result"
    }
   ],
   "source": [
    "#unique values of target variable cardio\n",
    "cardio_df.cardio.unique() "
   ]
  },
  {
   "cell_type": "code",
   "execution_count": 192,
   "metadata": {
    "scrolled": true
   },
   "outputs": [
    {
     "data": {
      "text/plain": [
       "0    35021\n",
       "1    34979\n",
       "Name: cardio, dtype: int64"
      ]
     },
     "execution_count": 192,
     "metadata": {},
     "output_type": "execute_result"
    }
   ],
   "source": [
    "#frequency of the unique values in the target variable cardio\n",
    "cardio_df.cardio.value_counts()"
   ]
  },
  {
   "cell_type": "markdown",
   "metadata": {},
   "source": [
    "### To check for missing values"
   ]
  },
  {
   "cell_type": "code",
   "execution_count": 193,
   "metadata": {},
   "outputs": [
    {
     "name": "stdout",
     "output_type": "stream",
     "text": [
      "There are 0 missing values in the data frame\n"
     ]
    }
   ],
   "source": [
    "print(\"There are {} missing values in the data frame\".format(cardio_df.isnull().sum().sum()))"
   ]
  },
  {
   "cell_type": "markdown",
   "metadata": {},
   "source": [
    "### To check for duplicate rows"
   ]
  },
  {
   "cell_type": "code",
   "execution_count": 194,
   "metadata": {},
   "outputs": [
    {
     "data": {
      "text/plain": [
       "0"
      ]
     },
     "execution_count": 194,
     "metadata": {},
     "output_type": "execute_result"
    }
   ],
   "source": [
    "cardio_df.duplicated().sum()"
   ]
  },
  {
   "cell_type": "code",
   "execution_count": 195,
   "metadata": {
    "scrolled": true
   },
   "outputs": [
    {
     "name": "stdout",
     "output_type": "stream",
     "text": [
      "There are 0 duplicated values in the data frame\n"
     ]
    }
   ],
   "source": [
    "print(\"There are {} duplicated values in the data frame\".format(cardio_df.duplicated().sum()))"
   ]
  },
  {
   "cell_type": "markdown",
   "metadata": {},
   "source": [
    "### Renaming the columns"
   ]
  },
  {
   "cell_type": "code",
   "execution_count": 196,
   "metadata": {
    "scrolled": true
   },
   "outputs": [
    {
     "data": {
      "text/html": [
       "<div>\n",
       "<style scoped>\n",
       "    .dataframe tbody tr th:only-of-type {\n",
       "        vertical-align: middle;\n",
       "    }\n",
       "\n",
       "    .dataframe tbody tr th {\n",
       "        vertical-align: top;\n",
       "    }\n",
       "\n",
       "    .dataframe thead th {\n",
       "        text-align: right;\n",
       "    }\n",
       "</style>\n",
       "<table border=\"1\" class=\"dataframe\">\n",
       "  <thead>\n",
       "    <tr style=\"text-align: right;\">\n",
       "      <th></th>\n",
       "      <th>id</th>\n",
       "      <th>age</th>\n",
       "      <th>gender</th>\n",
       "      <th>height</th>\n",
       "      <th>weight</th>\n",
       "      <th>systolic_BP</th>\n",
       "      <th>diastolic_BP</th>\n",
       "      <th>cholesterol</th>\n",
       "      <th>gluc</th>\n",
       "      <th>smoke</th>\n",
       "      <th>alco</th>\n",
       "      <th>active</th>\n",
       "      <th>cardio</th>\n",
       "    </tr>\n",
       "  </thead>\n",
       "  <tbody>\n",
       "    <tr>\n",
       "      <td>0</td>\n",
       "      <td>0</td>\n",
       "      <td>18393</td>\n",
       "      <td>2</td>\n",
       "      <td>168</td>\n",
       "      <td>62.0</td>\n",
       "      <td>110</td>\n",
       "      <td>80</td>\n",
       "      <td>1</td>\n",
       "      <td>1</td>\n",
       "      <td>0</td>\n",
       "      <td>0</td>\n",
       "      <td>1</td>\n",
       "      <td>0</td>\n",
       "    </tr>\n",
       "    <tr>\n",
       "      <td>1</td>\n",
       "      <td>1</td>\n",
       "      <td>20228</td>\n",
       "      <td>1</td>\n",
       "      <td>156</td>\n",
       "      <td>85.0</td>\n",
       "      <td>140</td>\n",
       "      <td>90</td>\n",
       "      <td>3</td>\n",
       "      <td>1</td>\n",
       "      <td>0</td>\n",
       "      <td>0</td>\n",
       "      <td>1</td>\n",
       "      <td>1</td>\n",
       "    </tr>\n",
       "    <tr>\n",
       "      <td>2</td>\n",
       "      <td>2</td>\n",
       "      <td>18857</td>\n",
       "      <td>1</td>\n",
       "      <td>165</td>\n",
       "      <td>64.0</td>\n",
       "      <td>130</td>\n",
       "      <td>70</td>\n",
       "      <td>3</td>\n",
       "      <td>1</td>\n",
       "      <td>0</td>\n",
       "      <td>0</td>\n",
       "      <td>0</td>\n",
       "      <td>1</td>\n",
       "    </tr>\n",
       "    <tr>\n",
       "      <td>3</td>\n",
       "      <td>3</td>\n",
       "      <td>17623</td>\n",
       "      <td>2</td>\n",
       "      <td>169</td>\n",
       "      <td>82.0</td>\n",
       "      <td>150</td>\n",
       "      <td>100</td>\n",
       "      <td>1</td>\n",
       "      <td>1</td>\n",
       "      <td>0</td>\n",
       "      <td>0</td>\n",
       "      <td>1</td>\n",
       "      <td>1</td>\n",
       "    </tr>\n",
       "    <tr>\n",
       "      <td>4</td>\n",
       "      <td>4</td>\n",
       "      <td>17474</td>\n",
       "      <td>1</td>\n",
       "      <td>156</td>\n",
       "      <td>56.0</td>\n",
       "      <td>100</td>\n",
       "      <td>60</td>\n",
       "      <td>1</td>\n",
       "      <td>1</td>\n",
       "      <td>0</td>\n",
       "      <td>0</td>\n",
       "      <td>0</td>\n",
       "      <td>0</td>\n",
       "    </tr>\n",
       "    <tr>\n",
       "      <td>...</td>\n",
       "      <td>...</td>\n",
       "      <td>...</td>\n",
       "      <td>...</td>\n",
       "      <td>...</td>\n",
       "      <td>...</td>\n",
       "      <td>...</td>\n",
       "      <td>...</td>\n",
       "      <td>...</td>\n",
       "      <td>...</td>\n",
       "      <td>...</td>\n",
       "      <td>...</td>\n",
       "      <td>...</td>\n",
       "      <td>...</td>\n",
       "    </tr>\n",
       "    <tr>\n",
       "      <td>69995</td>\n",
       "      <td>99993</td>\n",
       "      <td>19240</td>\n",
       "      <td>2</td>\n",
       "      <td>168</td>\n",
       "      <td>76.0</td>\n",
       "      <td>120</td>\n",
       "      <td>80</td>\n",
       "      <td>1</td>\n",
       "      <td>1</td>\n",
       "      <td>1</td>\n",
       "      <td>0</td>\n",
       "      <td>1</td>\n",
       "      <td>0</td>\n",
       "    </tr>\n",
       "    <tr>\n",
       "      <td>69996</td>\n",
       "      <td>99995</td>\n",
       "      <td>22601</td>\n",
       "      <td>1</td>\n",
       "      <td>158</td>\n",
       "      <td>126.0</td>\n",
       "      <td>140</td>\n",
       "      <td>90</td>\n",
       "      <td>2</td>\n",
       "      <td>2</td>\n",
       "      <td>0</td>\n",
       "      <td>0</td>\n",
       "      <td>1</td>\n",
       "      <td>1</td>\n",
       "    </tr>\n",
       "    <tr>\n",
       "      <td>69997</td>\n",
       "      <td>99996</td>\n",
       "      <td>19066</td>\n",
       "      <td>2</td>\n",
       "      <td>183</td>\n",
       "      <td>105.0</td>\n",
       "      <td>180</td>\n",
       "      <td>90</td>\n",
       "      <td>3</td>\n",
       "      <td>1</td>\n",
       "      <td>0</td>\n",
       "      <td>1</td>\n",
       "      <td>0</td>\n",
       "      <td>1</td>\n",
       "    </tr>\n",
       "    <tr>\n",
       "      <td>69998</td>\n",
       "      <td>99998</td>\n",
       "      <td>22431</td>\n",
       "      <td>1</td>\n",
       "      <td>163</td>\n",
       "      <td>72.0</td>\n",
       "      <td>135</td>\n",
       "      <td>80</td>\n",
       "      <td>1</td>\n",
       "      <td>2</td>\n",
       "      <td>0</td>\n",
       "      <td>0</td>\n",
       "      <td>0</td>\n",
       "      <td>1</td>\n",
       "    </tr>\n",
       "    <tr>\n",
       "      <td>69999</td>\n",
       "      <td>99999</td>\n",
       "      <td>20540</td>\n",
       "      <td>1</td>\n",
       "      <td>170</td>\n",
       "      <td>72.0</td>\n",
       "      <td>120</td>\n",
       "      <td>80</td>\n",
       "      <td>2</td>\n",
       "      <td>1</td>\n",
       "      <td>0</td>\n",
       "      <td>0</td>\n",
       "      <td>1</td>\n",
       "      <td>0</td>\n",
       "    </tr>\n",
       "  </tbody>\n",
       "</table>\n",
       "<p>70000 rows × 13 columns</p>\n",
       "</div>"
      ],
      "text/plain": [
       "          id    age  gender  height  weight  systolic_BP  diastolic_BP  \\\n",
       "0          0  18393       2     168    62.0          110            80   \n",
       "1          1  20228       1     156    85.0          140            90   \n",
       "2          2  18857       1     165    64.0          130            70   \n",
       "3          3  17623       2     169    82.0          150           100   \n",
       "4          4  17474       1     156    56.0          100            60   \n",
       "...      ...    ...     ...     ...     ...          ...           ...   \n",
       "69995  99993  19240       2     168    76.0          120            80   \n",
       "69996  99995  22601       1     158   126.0          140            90   \n",
       "69997  99996  19066       2     183   105.0          180            90   \n",
       "69998  99998  22431       1     163    72.0          135            80   \n",
       "69999  99999  20540       1     170    72.0          120            80   \n",
       "\n",
       "       cholesterol  gluc  smoke  alco  active  cardio  \n",
       "0                1     1      0     0       1       0  \n",
       "1                3     1      0     0       1       1  \n",
       "2                3     1      0     0       0       1  \n",
       "3                1     1      0     0       1       1  \n",
       "4                1     1      0     0       0       0  \n",
       "...            ...   ...    ...   ...     ...     ...  \n",
       "69995            1     1      1     0       1       0  \n",
       "69996            2     2      0     0       1       1  \n",
       "69997            3     1      0     1       0       1  \n",
       "69998            1     2      0     0       0       1  \n",
       "69999            2     1      0     0       1       0  \n",
       "\n",
       "[70000 rows x 13 columns]"
      ]
     },
     "execution_count": 196,
     "metadata": {},
     "output_type": "execute_result"
    }
   ],
   "source": [
    "cardio_df.rename(columns={'ap_hi': 'systolic_BP', 'ap_lo': 'diastolic_BP'}, inplace=True)\n",
    "cardio_df"
   ]
  },
  {
   "cell_type": "markdown",
   "metadata": {},
   "source": [
    "## Coverting age from days to years\n",
    "## Featuring a new variable BMI\n",
    "- BMI gives more insight as it measures \n",
    "  body size considering weight as well as height "
   ]
  },
  {
   "cell_type": "code",
   "execution_count": 197,
   "metadata": {},
   "outputs": [
    {
     "data": {
      "text/html": [
       "<div>\n",
       "<style scoped>\n",
       "    .dataframe tbody tr th:only-of-type {\n",
       "        vertical-align: middle;\n",
       "    }\n",
       "\n",
       "    .dataframe tbody tr th {\n",
       "        vertical-align: top;\n",
       "    }\n",
       "\n",
       "    .dataframe thead th {\n",
       "        text-align: right;\n",
       "    }\n",
       "</style>\n",
       "<table border=\"1\" class=\"dataframe\">\n",
       "  <thead>\n",
       "    <tr style=\"text-align: right;\">\n",
       "      <th></th>\n",
       "      <th>id</th>\n",
       "      <th>age</th>\n",
       "      <th>gender</th>\n",
       "      <th>height</th>\n",
       "      <th>weight</th>\n",
       "      <th>systolic_BP</th>\n",
       "      <th>diastolic_BP</th>\n",
       "      <th>cholesterol</th>\n",
       "      <th>gluc</th>\n",
       "      <th>smoke</th>\n",
       "      <th>alco</th>\n",
       "      <th>active</th>\n",
       "      <th>cardio</th>\n",
       "      <th>ageinYears</th>\n",
       "      <th>bmi</th>\n",
       "    </tr>\n",
       "  </thead>\n",
       "  <tbody>\n",
       "    <tr>\n",
       "      <td>0</td>\n",
       "      <td>0</td>\n",
       "      <td>18393</td>\n",
       "      <td>2</td>\n",
       "      <td>168</td>\n",
       "      <td>62.0</td>\n",
       "      <td>110</td>\n",
       "      <td>80</td>\n",
       "      <td>1</td>\n",
       "      <td>1</td>\n",
       "      <td>0</td>\n",
       "      <td>0</td>\n",
       "      <td>1</td>\n",
       "      <td>0</td>\n",
       "      <td>50.0</td>\n",
       "      <td>21.97</td>\n",
       "    </tr>\n",
       "    <tr>\n",
       "      <td>1</td>\n",
       "      <td>1</td>\n",
       "      <td>20228</td>\n",
       "      <td>1</td>\n",
       "      <td>156</td>\n",
       "      <td>85.0</td>\n",
       "      <td>140</td>\n",
       "      <td>90</td>\n",
       "      <td>3</td>\n",
       "      <td>1</td>\n",
       "      <td>0</td>\n",
       "      <td>0</td>\n",
       "      <td>1</td>\n",
       "      <td>1</td>\n",
       "      <td>55.0</td>\n",
       "      <td>34.93</td>\n",
       "    </tr>\n",
       "    <tr>\n",
       "      <td>2</td>\n",
       "      <td>2</td>\n",
       "      <td>18857</td>\n",
       "      <td>1</td>\n",
       "      <td>165</td>\n",
       "      <td>64.0</td>\n",
       "      <td>130</td>\n",
       "      <td>70</td>\n",
       "      <td>3</td>\n",
       "      <td>1</td>\n",
       "      <td>0</td>\n",
       "      <td>0</td>\n",
       "      <td>0</td>\n",
       "      <td>1</td>\n",
       "      <td>52.0</td>\n",
       "      <td>23.51</td>\n",
       "    </tr>\n",
       "    <tr>\n",
       "      <td>3</td>\n",
       "      <td>3</td>\n",
       "      <td>17623</td>\n",
       "      <td>2</td>\n",
       "      <td>169</td>\n",
       "      <td>82.0</td>\n",
       "      <td>150</td>\n",
       "      <td>100</td>\n",
       "      <td>1</td>\n",
       "      <td>1</td>\n",
       "      <td>0</td>\n",
       "      <td>0</td>\n",
       "      <td>1</td>\n",
       "      <td>1</td>\n",
       "      <td>48.0</td>\n",
       "      <td>28.71</td>\n",
       "    </tr>\n",
       "    <tr>\n",
       "      <td>4</td>\n",
       "      <td>4</td>\n",
       "      <td>17474</td>\n",
       "      <td>1</td>\n",
       "      <td>156</td>\n",
       "      <td>56.0</td>\n",
       "      <td>100</td>\n",
       "      <td>60</td>\n",
       "      <td>1</td>\n",
       "      <td>1</td>\n",
       "      <td>0</td>\n",
       "      <td>0</td>\n",
       "      <td>0</td>\n",
       "      <td>0</td>\n",
       "      <td>48.0</td>\n",
       "      <td>23.01</td>\n",
       "    </tr>\n",
       "    <tr>\n",
       "      <td>...</td>\n",
       "      <td>...</td>\n",
       "      <td>...</td>\n",
       "      <td>...</td>\n",
       "      <td>...</td>\n",
       "      <td>...</td>\n",
       "      <td>...</td>\n",
       "      <td>...</td>\n",
       "      <td>...</td>\n",
       "      <td>...</td>\n",
       "      <td>...</td>\n",
       "      <td>...</td>\n",
       "      <td>...</td>\n",
       "      <td>...</td>\n",
       "      <td>...</td>\n",
       "      <td>...</td>\n",
       "    </tr>\n",
       "    <tr>\n",
       "      <td>69995</td>\n",
       "      <td>99993</td>\n",
       "      <td>19240</td>\n",
       "      <td>2</td>\n",
       "      <td>168</td>\n",
       "      <td>76.0</td>\n",
       "      <td>120</td>\n",
       "      <td>80</td>\n",
       "      <td>1</td>\n",
       "      <td>1</td>\n",
       "      <td>1</td>\n",
       "      <td>0</td>\n",
       "      <td>1</td>\n",
       "      <td>0</td>\n",
       "      <td>53.0</td>\n",
       "      <td>26.93</td>\n",
       "    </tr>\n",
       "    <tr>\n",
       "      <td>69996</td>\n",
       "      <td>99995</td>\n",
       "      <td>22601</td>\n",
       "      <td>1</td>\n",
       "      <td>158</td>\n",
       "      <td>126.0</td>\n",
       "      <td>140</td>\n",
       "      <td>90</td>\n",
       "      <td>2</td>\n",
       "      <td>2</td>\n",
       "      <td>0</td>\n",
       "      <td>0</td>\n",
       "      <td>1</td>\n",
       "      <td>1</td>\n",
       "      <td>62.0</td>\n",
       "      <td>50.47</td>\n",
       "    </tr>\n",
       "    <tr>\n",
       "      <td>69997</td>\n",
       "      <td>99996</td>\n",
       "      <td>19066</td>\n",
       "      <td>2</td>\n",
       "      <td>183</td>\n",
       "      <td>105.0</td>\n",
       "      <td>180</td>\n",
       "      <td>90</td>\n",
       "      <td>3</td>\n",
       "      <td>1</td>\n",
       "      <td>0</td>\n",
       "      <td>1</td>\n",
       "      <td>0</td>\n",
       "      <td>1</td>\n",
       "      <td>52.0</td>\n",
       "      <td>31.35</td>\n",
       "    </tr>\n",
       "    <tr>\n",
       "      <td>69998</td>\n",
       "      <td>99998</td>\n",
       "      <td>22431</td>\n",
       "      <td>1</td>\n",
       "      <td>163</td>\n",
       "      <td>72.0</td>\n",
       "      <td>135</td>\n",
       "      <td>80</td>\n",
       "      <td>1</td>\n",
       "      <td>2</td>\n",
       "      <td>0</td>\n",
       "      <td>0</td>\n",
       "      <td>0</td>\n",
       "      <td>1</td>\n",
       "      <td>61.0</td>\n",
       "      <td>27.10</td>\n",
       "    </tr>\n",
       "    <tr>\n",
       "      <td>69999</td>\n",
       "      <td>99999</td>\n",
       "      <td>20540</td>\n",
       "      <td>1</td>\n",
       "      <td>170</td>\n",
       "      <td>72.0</td>\n",
       "      <td>120</td>\n",
       "      <td>80</td>\n",
       "      <td>2</td>\n",
       "      <td>1</td>\n",
       "      <td>0</td>\n",
       "      <td>0</td>\n",
       "      <td>1</td>\n",
       "      <td>0</td>\n",
       "      <td>56.0</td>\n",
       "      <td>24.91</td>\n",
       "    </tr>\n",
       "  </tbody>\n",
       "</table>\n",
       "<p>70000 rows × 15 columns</p>\n",
       "</div>"
      ],
      "text/plain": [
       "          id    age  gender  height  weight  systolic_BP  diastolic_BP  \\\n",
       "0          0  18393       2     168    62.0          110            80   \n",
       "1          1  20228       1     156    85.0          140            90   \n",
       "2          2  18857       1     165    64.0          130            70   \n",
       "3          3  17623       2     169    82.0          150           100   \n",
       "4          4  17474       1     156    56.0          100            60   \n",
       "...      ...    ...     ...     ...     ...          ...           ...   \n",
       "69995  99993  19240       2     168    76.0          120            80   \n",
       "69996  99995  22601       1     158   126.0          140            90   \n",
       "69997  99996  19066       2     183   105.0          180            90   \n",
       "69998  99998  22431       1     163    72.0          135            80   \n",
       "69999  99999  20540       1     170    72.0          120            80   \n",
       "\n",
       "       cholesterol  gluc  smoke  alco  active  cardio  ageinYears    bmi  \n",
       "0                1     1      0     0       1       0        50.0  21.97  \n",
       "1                3     1      0     0       1       1        55.0  34.93  \n",
       "2                3     1      0     0       0       1        52.0  23.51  \n",
       "3                1     1      0     0       1       1        48.0  28.71  \n",
       "4                1     1      0     0       0       0        48.0  23.01  \n",
       "...            ...   ...    ...   ...     ...     ...         ...    ...  \n",
       "69995            1     1      1     0       1       0        53.0  26.93  \n",
       "69996            2     2      0     0       1       1        62.0  50.47  \n",
       "69997            3     1      0     1       0       1        52.0  31.35  \n",
       "69998            1     2      0     0       0       1        61.0  27.10  \n",
       "69999            2     1      0     0       1       0        56.0  24.91  \n",
       "\n",
       "[70000 rows x 15 columns]"
      ]
     },
     "execution_count": 197,
     "metadata": {},
     "output_type": "execute_result"
    }
   ],
   "source": [
    "cardio_df['ageinYears']=  (cardio_df['age'] / 365.25).round()\n",
    "cardio_df['bmi']=(cardio_df['weight']/((cardio_df['height']/100)**2)).round(2)\n",
    "cardio_df"
   ]
  },
  {
   "cell_type": "markdown",
   "metadata": {},
   "source": [
    "## Removing irrelevant columns"
   ]
  },
  {
   "cell_type": "code",
   "execution_count": 198,
   "metadata": {},
   "outputs": [],
   "source": [
    "cardio_df=cardio_df.drop(['id','age'],axis=1)\n",
    "#cardio_df"
   ]
  },
  {
   "cell_type": "markdown",
   "metadata": {},
   "source": [
    "## To filter inaccurate/ incorrect data"
   ]
  },
  {
   "cell_type": "markdown",
   "metadata": {},
   "source": [
    "- The data for variables systolic_BP, diastolic_BP, height and BMI should lie within the acceptable range "
   ]
  },
  {
   "cell_type": "code",
   "execution_count": 199,
   "metadata": {},
   "outputs": [
    {
     "data": {
      "text/html": [
       "<div>\n",
       "<style scoped>\n",
       "    .dataframe tbody tr th:only-of-type {\n",
       "        vertical-align: middle;\n",
       "    }\n",
       "\n",
       "    .dataframe tbody tr th {\n",
       "        vertical-align: top;\n",
       "    }\n",
       "\n",
       "    .dataframe thead th {\n",
       "        text-align: right;\n",
       "    }\n",
       "</style>\n",
       "<table border=\"1\" class=\"dataframe\">\n",
       "  <thead>\n",
       "    <tr style=\"text-align: right;\">\n",
       "      <th></th>\n",
       "      <th>gender</th>\n",
       "      <th>height</th>\n",
       "      <th>weight</th>\n",
       "      <th>systolic_BP</th>\n",
       "      <th>diastolic_BP</th>\n",
       "      <th>cholesterol</th>\n",
       "      <th>gluc</th>\n",
       "      <th>smoke</th>\n",
       "      <th>alco</th>\n",
       "      <th>active</th>\n",
       "      <th>cardio</th>\n",
       "      <th>ageinYears</th>\n",
       "      <th>bmi</th>\n",
       "    </tr>\n",
       "  </thead>\n",
       "  <tbody>\n",
       "    <tr>\n",
       "      <td>0</td>\n",
       "      <td>2</td>\n",
       "      <td>168</td>\n",
       "      <td>62.0</td>\n",
       "      <td>110</td>\n",
       "      <td>80</td>\n",
       "      <td>1</td>\n",
       "      <td>1</td>\n",
       "      <td>0</td>\n",
       "      <td>0</td>\n",
       "      <td>1</td>\n",
       "      <td>0</td>\n",
       "      <td>50.0</td>\n",
       "      <td>21.97</td>\n",
       "    </tr>\n",
       "    <tr>\n",
       "      <td>1</td>\n",
       "      <td>1</td>\n",
       "      <td>156</td>\n",
       "      <td>85.0</td>\n",
       "      <td>140</td>\n",
       "      <td>90</td>\n",
       "      <td>3</td>\n",
       "      <td>1</td>\n",
       "      <td>0</td>\n",
       "      <td>0</td>\n",
       "      <td>1</td>\n",
       "      <td>1</td>\n",
       "      <td>55.0</td>\n",
       "      <td>34.93</td>\n",
       "    </tr>\n",
       "    <tr>\n",
       "      <td>2</td>\n",
       "      <td>1</td>\n",
       "      <td>165</td>\n",
       "      <td>64.0</td>\n",
       "      <td>130</td>\n",
       "      <td>70</td>\n",
       "      <td>3</td>\n",
       "      <td>1</td>\n",
       "      <td>0</td>\n",
       "      <td>0</td>\n",
       "      <td>0</td>\n",
       "      <td>1</td>\n",
       "      <td>52.0</td>\n",
       "      <td>23.51</td>\n",
       "    </tr>\n",
       "    <tr>\n",
       "      <td>3</td>\n",
       "      <td>2</td>\n",
       "      <td>169</td>\n",
       "      <td>82.0</td>\n",
       "      <td>150</td>\n",
       "      <td>100</td>\n",
       "      <td>1</td>\n",
       "      <td>1</td>\n",
       "      <td>0</td>\n",
       "      <td>0</td>\n",
       "      <td>1</td>\n",
       "      <td>1</td>\n",
       "      <td>48.0</td>\n",
       "      <td>28.71</td>\n",
       "    </tr>\n",
       "    <tr>\n",
       "      <td>4</td>\n",
       "      <td>1</td>\n",
       "      <td>156</td>\n",
       "      <td>56.0</td>\n",
       "      <td>100</td>\n",
       "      <td>60</td>\n",
       "      <td>1</td>\n",
       "      <td>1</td>\n",
       "      <td>0</td>\n",
       "      <td>0</td>\n",
       "      <td>0</td>\n",
       "      <td>0</td>\n",
       "      <td>48.0</td>\n",
       "      <td>23.01</td>\n",
       "    </tr>\n",
       "    <tr>\n",
       "      <td>...</td>\n",
       "      <td>...</td>\n",
       "      <td>...</td>\n",
       "      <td>...</td>\n",
       "      <td>...</td>\n",
       "      <td>...</td>\n",
       "      <td>...</td>\n",
       "      <td>...</td>\n",
       "      <td>...</td>\n",
       "      <td>...</td>\n",
       "      <td>...</td>\n",
       "      <td>...</td>\n",
       "      <td>...</td>\n",
       "      <td>...</td>\n",
       "    </tr>\n",
       "    <tr>\n",
       "      <td>69994</td>\n",
       "      <td>1</td>\n",
       "      <td>165</td>\n",
       "      <td>80.0</td>\n",
       "      <td>150</td>\n",
       "      <td>80</td>\n",
       "      <td>1</td>\n",
       "      <td>1</td>\n",
       "      <td>0</td>\n",
       "      <td>0</td>\n",
       "      <td>1</td>\n",
       "      <td>1</td>\n",
       "      <td>58.0</td>\n",
       "      <td>29.38</td>\n",
       "    </tr>\n",
       "    <tr>\n",
       "      <td>69995</td>\n",
       "      <td>2</td>\n",
       "      <td>168</td>\n",
       "      <td>76.0</td>\n",
       "      <td>120</td>\n",
       "      <td>80</td>\n",
       "      <td>1</td>\n",
       "      <td>1</td>\n",
       "      <td>1</td>\n",
       "      <td>0</td>\n",
       "      <td>1</td>\n",
       "      <td>0</td>\n",
       "      <td>53.0</td>\n",
       "      <td>26.93</td>\n",
       "    </tr>\n",
       "    <tr>\n",
       "      <td>69997</td>\n",
       "      <td>2</td>\n",
       "      <td>183</td>\n",
       "      <td>105.0</td>\n",
       "      <td>180</td>\n",
       "      <td>90</td>\n",
       "      <td>3</td>\n",
       "      <td>1</td>\n",
       "      <td>0</td>\n",
       "      <td>1</td>\n",
       "      <td>0</td>\n",
       "      <td>1</td>\n",
       "      <td>52.0</td>\n",
       "      <td>31.35</td>\n",
       "    </tr>\n",
       "    <tr>\n",
       "      <td>69998</td>\n",
       "      <td>1</td>\n",
       "      <td>163</td>\n",
       "      <td>72.0</td>\n",
       "      <td>135</td>\n",
       "      <td>80</td>\n",
       "      <td>1</td>\n",
       "      <td>2</td>\n",
       "      <td>0</td>\n",
       "      <td>0</td>\n",
       "      <td>0</td>\n",
       "      <td>1</td>\n",
       "      <td>61.0</td>\n",
       "      <td>27.10</td>\n",
       "    </tr>\n",
       "    <tr>\n",
       "      <td>69999</td>\n",
       "      <td>1</td>\n",
       "      <td>170</td>\n",
       "      <td>72.0</td>\n",
       "      <td>120</td>\n",
       "      <td>80</td>\n",
       "      <td>2</td>\n",
       "      <td>1</td>\n",
       "      <td>0</td>\n",
       "      <td>0</td>\n",
       "      <td>1</td>\n",
       "      <td>0</td>\n",
       "      <td>56.0</td>\n",
       "      <td>24.91</td>\n",
       "    </tr>\n",
       "  </tbody>\n",
       "</table>\n",
       "<p>68292 rows × 13 columns</p>\n",
       "</div>"
      ],
      "text/plain": [
       "       gender  height  weight  systolic_BP  diastolic_BP  cholesterol  gluc  \\\n",
       "0           2     168    62.0          110            80            1     1   \n",
       "1           1     156    85.0          140            90            3     1   \n",
       "2           1     165    64.0          130            70            3     1   \n",
       "3           2     169    82.0          150           100            1     1   \n",
       "4           1     156    56.0          100            60            1     1   \n",
       "...       ...     ...     ...          ...           ...          ...   ...   \n",
       "69994       1     165    80.0          150            80            1     1   \n",
       "69995       2     168    76.0          120            80            1     1   \n",
       "69997       2     183   105.0          180            90            3     1   \n",
       "69998       1     163    72.0          135            80            1     2   \n",
       "69999       1     170    72.0          120            80            2     1   \n",
       "\n",
       "       smoke  alco  active  cardio  ageinYears    bmi  \n",
       "0          0     0       1       0        50.0  21.97  \n",
       "1          0     0       1       1        55.0  34.93  \n",
       "2          0     0       0       1        52.0  23.51  \n",
       "3          0     0       1       1        48.0  28.71  \n",
       "4          0     0       0       0        48.0  23.01  \n",
       "...      ...   ...     ...     ...         ...    ...  \n",
       "69994      0     0       1       1        58.0  29.38  \n",
       "69995      1     0       1       0        53.0  26.93  \n",
       "69997      0     1       0       1        52.0  31.35  \n",
       "69998      0     0       0       1        61.0  27.10  \n",
       "69999      0     0       1       0        56.0  24.91  \n",
       "\n",
       "[68292 rows x 13 columns]"
      ]
     },
     "execution_count": 199,
     "metadata": {},
     "output_type": "execute_result"
    }
   ],
   "source": [
    "indexNames = cardio_df[  (cardio_df['systolic_BP']<50)|(cardio_df['systolic_BP']>240)|\\\n",
    "                         (cardio_df['diastolic_BP']<35)|(cardio_df['diastolic_BP']>150)|\\\n",
    "                         (cardio_df['height']<140)| (cardio_df['height']>207)|\\\n",
    "                         (cardio_df['bmi']>50)|(cardio_df['bmi']<17)].index\n",
    "cardio_df.drop(indexNames , inplace=True)\n",
    "cardio_df"
   ]
  },
  {
   "cell_type": "code",
   "execution_count": 200,
   "metadata": {},
   "outputs": [],
   "source": [
    "#cardio_df.describe()"
   ]
  },
  {
   "cell_type": "markdown",
   "metadata": {},
   "source": [
    "## Lower Bound and Upper Bound for continuous variables"
   ]
  },
  {
   "cell_type": "code",
   "execution_count": 201,
   "metadata": {},
   "outputs": [
    {
     "name": "stdout",
     "output_type": "stream",
     "text": [
      "Lower Bound and Upper Bound for ageinYears : 33.0 and 73.0\n",
      "Lower Bound and Upper Bound for height : 142.5 and 186.5\n",
      "Lower Bound and Upper Bound for weight : 39.5 and 107.5\n",
      "Lower Bound and Upper Bound for systolicBP : 90.0 and 170.0\n",
      "Lower Bound and Upper Bound for diastolicBP : 65.0 and 105.0\n",
      "Lower Bound and Upper Bound for bmi : 14.519999999999996 and 39.480000000000004\n"
     ]
    }
   ],
   "source": [
    "from numpy import percentile\n",
    "m=[cardio_df.ageinYears,cardio_df.height,cardio_df.weight,cardio_df.systolic_BP,cardio_df.diastolic_BP,cardio_df.bmi]\n",
    "k=[\"ageinYears\",\"height\",\"weight\",'systolicBP','diastolicBP','bmi']\n",
    "l=0\n",
    "for i in m:\n",
    "    quartiles = percentile(i, [25, 50, 75])\n",
    "    IQR=quartiles[2]-quartiles[0]\n",
    "    LB=quartiles[0]-1.5*IQR\n",
    "    UB=quartiles[2]+1.5*IQR\n",
    "    print(\"Lower Bound and Upper Bound for\", k[l],':',LB,\"and\",UB)\n",
    "    l=l+1"
   ]
  },
  {
   "cell_type": "markdown",
   "metadata": {},
   "source": [
    "## Boxplot for continuous variables"
   ]
  },
  {
   "cell_type": "code",
   "execution_count": 202,
   "metadata": {
    "scrolled": true
   },
   "outputs": [
    {
     "data": {
      "image/png": "[encoded data removed]",
      "text/plain": [
       "<Figure size 432x288 with 1 Axes>"
      ]
     },
     "metadata": {
      "needs_background": "light"
     },
     "output_type": "display_data"
    },
    {
     "data": {
      "image/png": "[encoded data removed]",
      "text/plain": [
       "<Figure size 432x288 with 1 Axes>"
      ]
     },
     "metadata": {
      "needs_background": "light"
     },
     "output_type": "display_data"
    },
    {
     "data": {
      "image/png": "[encoded data removed]",
      "text/plain": [
       "<Figure size 432x288 with 1 Axes>"
      ]
     },
     "metadata": {
      "needs_background": "light"
     },
     "output_type": "display_data"
    },
    {
     "data": {
      "image/png": "[encoded data removed]",
      "text/plain": [
       "<Figure size 432x288 with 1 Axes>"
      ]
     },
     "metadata": {
      "needs_background": "light"
     },
     "output_type": "display_data"
    },
    {
     "data": {
      "image/png": "[encoded data removed]",
      "text/plain": [
       "<Figure size 432x288 with 1 Axes>"
      ]
     },
     "metadata": {
      "needs_background": "light"
     },
     "output_type": "display_data"
    },
    {
     "data": {
      "image/png": "[encoded data removed]",
      "text/plain": [
       "<Figure size 432x288 with 1 Axes>"
      ]
     },
     "metadata": {
      "needs_background": "light"
     },
     "output_type": "display_data"
    }
   ],
   "source": [
    "k=[\"ageinYears\",\"height\",\"weight\",\"systolic_BP\",\"diastolic_BP\",\"bmi\"]\n",
    "m=0\n",
    "for m in range(len(k)):\n",
    "    sns.boxplot(x=k[m],data =cardio_df).set_title(k[m])\n",
    "    plt.show()"
   ]
  },
  {
   "cell_type": "markdown",
   "metadata": {},
   "source": [
    "## Bivariate analysis using Scatterplot\n",
    "- 1.BMI and weight and \n",
    "- 2.BMI and height\n"
   ]
  },
  {
   "cell_type": "markdown",
   "metadata": {},
   "source": [
    "## Scatterplot of BMI and weight"
   ]
  },
  {
   "cell_type": "code",
   "execution_count": 203,
   "metadata": {
    "scrolled": true
   },
   "outputs": [
    {
     "data": {
      "image/png": "[encoded data removed]",
      "text/plain": [
       "<Figure size 1152x576 with 1 Axes>"
      ]
     },
     "metadata": {
      "needs_background": "light"
     },
     "output_type": "display_data"
    }
   ],
   "source": [
    "fig, ax = plt.subplots(figsize=(16,8))\n",
    "ax.scatter(cardio_df['bmi'], cardio_df['weight'])\n",
    "ax.set_xlabel('BMI')\n",
    "ax.set_ylabel('weight')\n",
    "plt.show()"
   ]
  },
  {
   "cell_type": "markdown",
   "metadata": {},
   "source": [
    "## Scatterplot of BMI and height"
   ]
  },
  {
   "cell_type": "code",
   "execution_count": 204,
   "metadata": {},
   "outputs": [
    {
     "data": {
      "image/png": "[encoded data removed]",
      "text/plain": [
       "<Figure size 1152x576 with 1 Axes>"
      ]
     },
     "metadata": {
      "needs_background": "light"
     },
     "output_type": "display_data"
    }
   ],
   "source": [
    "fig, ax = plt.subplots(figsize=(16,8))\n",
    "ax.scatter(cardio_df['bmi'], cardio_df['height'])\n",
    "ax.set_xlabel('BMI')\n",
    "ax.set_ylabel('height')\n",
    "plt.show()"
   ]
  },
  {
   "cell_type": "markdown",
   "metadata": {},
   "source": [
    "- Based on the upperbound and lowerbound values we can filter the outliers"
   ]
  },
  {
   "cell_type": "code",
   "execution_count": 205,
   "metadata": {
    "scrolled": true
   },
   "outputs": [
    {
     "data": {
      "text/html": [
       "<div>\n",
       "<style scoped>\n",
       "    .dataframe tbody tr th:only-of-type {\n",
       "        vertical-align: middle;\n",
       "    }\n",
       "\n",
       "    .dataframe tbody tr th {\n",
       "        vertical-align: top;\n",
       "    }\n",
       "\n",
       "    .dataframe thead th {\n",
       "        text-align: right;\n",
       "    }\n",
       "</style>\n",
       "<table border=\"1\" class=\"dataframe\">\n",
       "  <thead>\n",
       "    <tr style=\"text-align: right;\">\n",
       "      <th></th>\n",
       "      <th>gender</th>\n",
       "      <th>height</th>\n",
       "      <th>weight</th>\n",
       "      <th>systolic_BP</th>\n",
       "      <th>diastolic_BP</th>\n",
       "      <th>cholesterol</th>\n",
       "      <th>gluc</th>\n",
       "      <th>smoke</th>\n",
       "      <th>alco</th>\n",
       "      <th>active</th>\n",
       "      <th>cardio</th>\n",
       "      <th>ageinYears</th>\n",
       "      <th>bmi</th>\n",
       "    </tr>\n",
       "  </thead>\n",
       "  <tbody>\n",
       "    <tr>\n",
       "      <td>0</td>\n",
       "      <td>2</td>\n",
       "      <td>168</td>\n",
       "      <td>62.0</td>\n",
       "      <td>110</td>\n",
       "      <td>80</td>\n",
       "      <td>1</td>\n",
       "      <td>1</td>\n",
       "      <td>0</td>\n",
       "      <td>0</td>\n",
       "      <td>1</td>\n",
       "      <td>0</td>\n",
       "      <td>50.0</td>\n",
       "      <td>21.97</td>\n",
       "    </tr>\n",
       "    <tr>\n",
       "      <td>1</td>\n",
       "      <td>1</td>\n",
       "      <td>156</td>\n",
       "      <td>85.0</td>\n",
       "      <td>140</td>\n",
       "      <td>90</td>\n",
       "      <td>3</td>\n",
       "      <td>1</td>\n",
       "      <td>0</td>\n",
       "      <td>0</td>\n",
       "      <td>1</td>\n",
       "      <td>1</td>\n",
       "      <td>55.0</td>\n",
       "      <td>34.93</td>\n",
       "    </tr>\n",
       "    <tr>\n",
       "      <td>2</td>\n",
       "      <td>1</td>\n",
       "      <td>165</td>\n",
       "      <td>64.0</td>\n",
       "      <td>130</td>\n",
       "      <td>70</td>\n",
       "      <td>3</td>\n",
       "      <td>1</td>\n",
       "      <td>0</td>\n",
       "      <td>0</td>\n",
       "      <td>0</td>\n",
       "      <td>1</td>\n",
       "      <td>52.0</td>\n",
       "      <td>23.51</td>\n",
       "    </tr>\n",
       "    <tr>\n",
       "      <td>3</td>\n",
       "      <td>2</td>\n",
       "      <td>169</td>\n",
       "      <td>82.0</td>\n",
       "      <td>150</td>\n",
       "      <td>100</td>\n",
       "      <td>1</td>\n",
       "      <td>1</td>\n",
       "      <td>0</td>\n",
       "      <td>0</td>\n",
       "      <td>1</td>\n",
       "      <td>1</td>\n",
       "      <td>48.0</td>\n",
       "      <td>28.71</td>\n",
       "    </tr>\n",
       "    <tr>\n",
       "      <td>5</td>\n",
       "      <td>1</td>\n",
       "      <td>151</td>\n",
       "      <td>67.0</td>\n",
       "      <td>120</td>\n",
       "      <td>80</td>\n",
       "      <td>2</td>\n",
       "      <td>2</td>\n",
       "      <td>0</td>\n",
       "      <td>0</td>\n",
       "      <td>0</td>\n",
       "      <td>0</td>\n",
       "      <td>60.0</td>\n",
       "      <td>29.38</td>\n",
       "    </tr>\n",
       "    <tr>\n",
       "      <td>...</td>\n",
       "      <td>...</td>\n",
       "      <td>...</td>\n",
       "      <td>...</td>\n",
       "      <td>...</td>\n",
       "      <td>...</td>\n",
       "      <td>...</td>\n",
       "      <td>...</td>\n",
       "      <td>...</td>\n",
       "      <td>...</td>\n",
       "      <td>...</td>\n",
       "      <td>...</td>\n",
       "      <td>...</td>\n",
       "      <td>...</td>\n",
       "    </tr>\n",
       "    <tr>\n",
       "      <td>69993</td>\n",
       "      <td>1</td>\n",
       "      <td>172</td>\n",
       "      <td>70.0</td>\n",
       "      <td>130</td>\n",
       "      <td>90</td>\n",
       "      <td>1</td>\n",
       "      <td>1</td>\n",
       "      <td>0</td>\n",
       "      <td>0</td>\n",
       "      <td>1</td>\n",
       "      <td>1</td>\n",
       "      <td>54.0</td>\n",
       "      <td>23.66</td>\n",
       "    </tr>\n",
       "    <tr>\n",
       "      <td>69994</td>\n",
       "      <td>1</td>\n",
       "      <td>165</td>\n",
       "      <td>80.0</td>\n",
       "      <td>150</td>\n",
       "      <td>80</td>\n",
       "      <td>1</td>\n",
       "      <td>1</td>\n",
       "      <td>0</td>\n",
       "      <td>0</td>\n",
       "      <td>1</td>\n",
       "      <td>1</td>\n",
       "      <td>58.0</td>\n",
       "      <td>29.38</td>\n",
       "    </tr>\n",
       "    <tr>\n",
       "      <td>69995</td>\n",
       "      <td>2</td>\n",
       "      <td>168</td>\n",
       "      <td>76.0</td>\n",
       "      <td>120</td>\n",
       "      <td>80</td>\n",
       "      <td>1</td>\n",
       "      <td>1</td>\n",
       "      <td>1</td>\n",
       "      <td>0</td>\n",
       "      <td>1</td>\n",
       "      <td>0</td>\n",
       "      <td>53.0</td>\n",
       "      <td>26.93</td>\n",
       "    </tr>\n",
       "    <tr>\n",
       "      <td>69998</td>\n",
       "      <td>1</td>\n",
       "      <td>163</td>\n",
       "      <td>72.0</td>\n",
       "      <td>135</td>\n",
       "      <td>80</td>\n",
       "      <td>1</td>\n",
       "      <td>2</td>\n",
       "      <td>0</td>\n",
       "      <td>0</td>\n",
       "      <td>0</td>\n",
       "      <td>1</td>\n",
       "      <td>61.0</td>\n",
       "      <td>27.10</td>\n",
       "    </tr>\n",
       "    <tr>\n",
       "      <td>69999</td>\n",
       "      <td>1</td>\n",
       "      <td>170</td>\n",
       "      <td>72.0</td>\n",
       "      <td>120</td>\n",
       "      <td>80</td>\n",
       "      <td>2</td>\n",
       "      <td>1</td>\n",
       "      <td>0</td>\n",
       "      <td>0</td>\n",
       "      <td>1</td>\n",
       "      <td>0</td>\n",
       "      <td>56.0</td>\n",
       "      <td>24.91</td>\n",
       "    </tr>\n",
       "  </tbody>\n",
       "</table>\n",
       "<p>61904 rows × 13 columns</p>\n",
       "</div>"
      ],
      "text/plain": [
       "       gender  height  weight  systolic_BP  diastolic_BP  cholesterol  gluc  \\\n",
       "0           2     168    62.0          110            80            1     1   \n",
       "1           1     156    85.0          140            90            3     1   \n",
       "2           1     165    64.0          130            70            3     1   \n",
       "3           2     169    82.0          150           100            1     1   \n",
       "5           1     151    67.0          120            80            2     2   \n",
       "...       ...     ...     ...          ...           ...          ...   ...   \n",
       "69993       1     172    70.0          130            90            1     1   \n",
       "69994       1     165    80.0          150            80            1     1   \n",
       "69995       2     168    76.0          120            80            1     1   \n",
       "69998       1     163    72.0          135            80            1     2   \n",
       "69999       1     170    72.0          120            80            2     1   \n",
       "\n",
       "       smoke  alco  active  cardio  ageinYears    bmi  \n",
       "0          0     0       1       0        50.0  21.97  \n",
       "1          0     0       1       1        55.0  34.93  \n",
       "2          0     0       0       1        52.0  23.51  \n",
       "3          0     0       1       1        48.0  28.71  \n",
       "5          0     0       0       0        60.0  29.38  \n",
       "...      ...   ...     ...     ...         ...    ...  \n",
       "69993      0     0       1       1        54.0  23.66  \n",
       "69994      0     0       1       1        58.0  29.38  \n",
       "69995      1     0       1       0        53.0  26.93  \n",
       "69998      0     0       0       1        61.0  27.10  \n",
       "69999      0     0       1       0        56.0  24.91  \n",
       "\n",
       "[61904 rows x 13 columns]"
      ]
     },
     "execution_count": 205,
     "metadata": {},
     "output_type": "execute_result"
    }
   ],
   "source": [
    "indexNames1 = cardio_df[ (cardio_df['height']<142.5)| (cardio_df['height']>187) |\\\n",
    "                         (cardio_df['weight']<40)| (cardio_df['weight']>108) |\\\n",
    "                         (cardio_df['systolic_BP']<90)|(cardio_df['systolic_BP']>170)|\\\n",
    "                         (cardio_df['diastolic_BP']<65)|(cardio_df['diastolic_BP']>105)|\\\n",
    "                         (cardio_df['bmi']>40)|(cardio_df['bmi']<17)].index\n",
    "cardio_df.drop(indexNames1 , inplace=True)\n",
    "cardio_df"
   ]
  },
  {
   "cell_type": "code",
   "execution_count": 206,
   "metadata": {
    "scrolled": true
   },
   "outputs": [
    {
     "data": {
      "text/html": [
       "<style  type=\"text/css\" >\n",
       "    #T_50568198_d149_11ea_b600_24fd52f0d54crow0_col0 {\n",
       "            background-color:  #ffc77f;\n",
       "            color:  #000000;\n",
       "        }    #T_50568198_d149_11ea_b600_24fd52f0d54crow0_col1 {\n",
       "            background-color:  #643f28;\n",
       "            color:  #f1f1f1;\n",
       "        }    #T_50568198_d149_11ea_b600_24fd52f0d54crow0_col2 {\n",
       "            background-color:  #000000;\n",
       "            color:  #f1f1f1;\n",
       "        }    #T_50568198_d149_11ea_b600_24fd52f0d54crow0_col3 {\n",
       "            background-color:  #000000;\n",
       "            color:  #f1f1f1;\n",
       "        }    #T_50568198_d149_11ea_b600_24fd52f0d54crow0_col4 {\n",
       "            background-color:  #000000;\n",
       "            color:  #f1f1f1;\n",
       "        }    #T_50568198_d149_11ea_b600_24fd52f0d54crow0_col5 {\n",
       "            background-color:  #000000;\n",
       "            color:  #f1f1f1;\n",
       "        }    #T_50568198_d149_11ea_b600_24fd52f0d54crow1_col0 {\n",
       "            background-color:  #935d3b;\n",
       "            color:  #f1f1f1;\n",
       "        }    #T_50568198_d149_11ea_b600_24fd52f0d54crow1_col1 {\n",
       "            background-color:  #ffc77f;\n",
       "            color:  #000000;\n",
       "        }    #T_50568198_d149_11ea_b600_24fd52f0d54crow1_col2 {\n",
       "            background-color:  #482d1d;\n",
       "            color:  #f1f1f1;\n",
       "        }    #T_50568198_d149_11ea_b600_24fd52f0d54crow1_col3 {\n",
       "            background-color:  #3e2719;\n",
       "            color:  #f1f1f1;\n",
       "        }    #T_50568198_d149_11ea_b600_24fd52f0d54crow1_col4 {\n",
       "            background-color:  #291a10;\n",
       "            color:  #f1f1f1;\n",
       "        }    #T_50568198_d149_11ea_b600_24fd52f0d54crow1_col5 {\n",
       "            background-color:  #ffad6e;\n",
       "            color:  #000000;\n",
       "        }    #T_50568198_d149_11ea_b600_24fd52f0d54crow2_col0 {\n",
       "            background-color:  #362216;\n",
       "            color:  #f1f1f1;\n",
       "        }    #T_50568198_d149_11ea_b600_24fd52f0d54crow2_col1 {\n",
       "            background-color:  #3a2517;\n",
       "            color:  #f1f1f1;\n",
       "        }    #T_50568198_d149_11ea_b600_24fd52f0d54crow2_col2 {\n",
       "            background-color:  #ffc77f;\n",
       "            color:  #000000;\n",
       "        }    #T_50568198_d149_11ea_b600_24fd52f0d54crow2_col3 {\n",
       "            background-color:  #dd8c59;\n",
       "            color:  #000000;\n",
       "        }    #T_50568198_d149_11ea_b600_24fd52f0d54crow2_col4 {\n",
       "            background-color:  #553622;\n",
       "            color:  #f1f1f1;\n",
       "        }    #T_50568198_d149_11ea_b600_24fd52f0d54crow2_col5 {\n",
       "            background-color:  #74492f;\n",
       "            color:  #f1f1f1;\n",
       "        }    #T_50568198_d149_11ea_b600_24fd52f0d54crow3_col0 {\n",
       "            background-color:  #3b2518;\n",
       "            color:  #f1f1f1;\n",
       "        }    #T_50568198_d149_11ea_b600_24fd52f0d54crow3_col1 {\n",
       "            background-color:  #342115;\n",
       "            color:  #f1f1f1;\n",
       "        }    #T_50568198_d149_11ea_b600_24fd52f0d54crow3_col2 {\n",
       "            background-color:  #de8d5a;\n",
       "            color:  #000000;\n",
       "        }    #T_50568198_d149_11ea_b600_24fd52f0d54crow3_col3 {\n",
       "            background-color:  #ffc77f;\n",
       "            color:  #000000;\n",
       "        }    #T_50568198_d149_11ea_b600_24fd52f0d54crow3_col4 {\n",
       "            background-color:  #442b1b;\n",
       "            color:  #f1f1f1;\n",
       "        }    #T_50568198_d149_11ea_b600_24fd52f0d54crow3_col5 {\n",
       "            background-color:  #6e462c;\n",
       "            color:  #f1f1f1;\n",
       "        }    #T_50568198_d149_11ea_b600_24fd52f0d54crow4_col0 {\n",
       "            background-color:  #1f140c;\n",
       "            color:  #f1f1f1;\n",
       "        }    #T_50568198_d149_11ea_b600_24fd52f0d54crow4_col1 {\n",
       "            background-color:  #000000;\n",
       "            color:  #f1f1f1;\n",
       "        }    #T_50568198_d149_11ea_b600_24fd52f0d54crow4_col2 {\n",
       "            background-color:  #40291a;\n",
       "            color:  #f1f1f1;\n",
       "        }    #T_50568198_d149_11ea_b600_24fd52f0d54crow4_col3 {\n",
       "            background-color:  #2a1b11;\n",
       "            color:  #f1f1f1;\n",
       "        }    #T_50568198_d149_11ea_b600_24fd52f0d54crow4_col4 {\n",
       "            background-color:  #ffc77f;\n",
       "            color:  #000000;\n",
       "        }    #T_50568198_d149_11ea_b600_24fd52f0d54crow4_col5 {\n",
       "            background-color:  #533421;\n",
       "            color:  #f1f1f1;\n",
       "        }    #T_50568198_d149_11ea_b600_24fd52f0d54crow5_col0 {\n",
       "            background-color:  #000000;\n",
       "            color:  #f1f1f1;\n",
       "        }    #T_50568198_d149_11ea_b600_24fd52f0d54crow5_col1 {\n",
       "            background-color:  #ffa569;\n",
       "            color:  #000000;\n",
       "        }    #T_50568198_d149_11ea_b600_24fd52f0d54crow5_col2 {\n",
       "            background-color:  #4a2f1e;\n",
       "            color:  #f1f1f1;\n",
       "        }    #T_50568198_d149_11ea_b600_24fd52f0d54crow5_col3 {\n",
       "            background-color:  #3e2719;\n",
       "            color:  #f1f1f1;\n",
       "        }    #T_50568198_d149_11ea_b600_24fd52f0d54crow5_col4 {\n",
       "            background-color:  #392417;\n",
       "            color:  #f1f1f1;\n",
       "        }    #T_50568198_d149_11ea_b600_24fd52f0d54crow5_col5 {\n",
       "            background-color:  #ffc77f;\n",
       "            color:  #000000;\n",
       "        }</style><table id=\"T_50568198_d149_11ea_b600_24fd52f0d54c\" ><thead>    <tr>        <th class=\"blank level0\" ></th>        <th class=\"col_heading level0 col0\" >height</th>        <th class=\"col_heading level0 col1\" >weight</th>        <th class=\"col_heading level0 col2\" >systolic_BP</th>        <th class=\"col_heading level0 col3\" >diastolic_BP</th>        <th class=\"col_heading level0 col4\" >ageinYears</th>        <th class=\"col_heading level0 col5\" >bmi</th>    </tr></thead><tbody>\n",
       "                <tr>\n",
       "                        <th id=\"T_50568198_d149_11ea_b600_24fd52f0d54clevel0_row0\" class=\"row_heading level0 row0\" >height</th>\n",
       "                        <td id=\"T_50568198_d149_11ea_b600_24fd52f0d54crow0_col0\" class=\"data row0 col0\" >1</td>\n",
       "                        <td id=\"T_50568198_d149_11ea_b600_24fd52f0d54crow0_col1\" class=\"data row0 col1\" >0.35</td>\n",
       "                        <td id=\"T_50568198_d149_11ea_b600_24fd52f0d54crow0_col2\" class=\"data row0 col2\" >-0.0019</td>\n",
       "                        <td id=\"T_50568198_d149_11ea_b600_24fd52f0d54crow0_col3\" class=\"data row0 col3\" >0.015</td>\n",
       "                        <td id=\"T_50568198_d149_11ea_b600_24fd52f0d54crow0_col4\" class=\"data row0 col4\" >-0.091</td>\n",
       "                        <td id=\"T_50568198_d149_11ea_b600_24fd52f0d54crow0_col5\" class=\"data row0 col5\" >-0.21</td>\n",
       "            </tr>\n",
       "            <tr>\n",
       "                        <th id=\"T_50568198_d149_11ea_b600_24fd52f0d54clevel0_row1\" class=\"row_heading level0 row1\" >weight</th>\n",
       "                        <td id=\"T_50568198_d149_11ea_b600_24fd52f0d54crow1_col0\" class=\"data row1 col0\" >0.35</td>\n",
       "                        <td id=\"T_50568198_d149_11ea_b600_24fd52f0d54crow1_col1\" class=\"data row1 col1\" >1</td>\n",
       "                        <td id=\"T_50568198_d149_11ea_b600_24fd52f0d54crow1_col2\" class=\"data row1 col2\" >0.23</td>\n",
       "                        <td id=\"T_50568198_d149_11ea_b600_24fd52f0d54crow1_col3\" class=\"data row1 col3\" >0.21</td>\n",
       "                        <td id=\"T_50568198_d149_11ea_b600_24fd52f0d54crow1_col4\" class=\"data row1 col4\" >0.052</td>\n",
       "                        <td id=\"T_50568198_d149_11ea_b600_24fd52f0d54crow1_col5\" class=\"data row1 col5\" >0.84</td>\n",
       "            </tr>\n",
       "            <tr>\n",
       "                        <th id=\"T_50568198_d149_11ea_b600_24fd52f0d54clevel0_row2\" class=\"row_heading level0 row2\" >systolic_BP</th>\n",
       "                        <td id=\"T_50568198_d149_11ea_b600_24fd52f0d54crow2_col0\" class=\"data row2 col0\" >-0.0019</td>\n",
       "                        <td id=\"T_50568198_d149_11ea_b600_24fd52f0d54crow2_col1\" class=\"data row2 col1\" >0.23</td>\n",
       "                        <td id=\"T_50568198_d149_11ea_b600_24fd52f0d54crow2_col2\" class=\"data row2 col2\" >1</td>\n",
       "                        <td id=\"T_50568198_d149_11ea_b600_24fd52f0d54crow2_col3\" class=\"data row2 col3\" >0.7</td>\n",
       "                        <td id=\"T_50568198_d149_11ea_b600_24fd52f0d54crow2_col4\" class=\"data row2 col4\" >0.2</td>\n",
       "                        <td id=\"T_50568198_d149_11ea_b600_24fd52f0d54crow2_col5\" class=\"data row2 col5\" >0.24</td>\n",
       "            </tr>\n",
       "            <tr>\n",
       "                        <th id=\"T_50568198_d149_11ea_b600_24fd52f0d54clevel0_row3\" class=\"row_heading level0 row3\" >diastolic_BP</th>\n",
       "                        <td id=\"T_50568198_d149_11ea_b600_24fd52f0d54crow3_col0\" class=\"data row3 col0\" >0.015</td>\n",
       "                        <td id=\"T_50568198_d149_11ea_b600_24fd52f0d54crow3_col1\" class=\"data row3 col1\" >0.21</td>\n",
       "                        <td id=\"T_50568198_d149_11ea_b600_24fd52f0d54crow3_col2\" class=\"data row3 col2\" >0.7</td>\n",
       "                        <td id=\"T_50568198_d149_11ea_b600_24fd52f0d54crow3_col3\" class=\"data row3 col3\" >1</td>\n",
       "                        <td id=\"T_50568198_d149_11ea_b600_24fd52f0d54crow3_col4\" class=\"data row3 col4\" >0.15</td>\n",
       "                        <td id=\"T_50568198_d149_11ea_b600_24fd52f0d54crow3_col5\" class=\"data row3 col5\" >0.21</td>\n",
       "            </tr>\n",
       "            <tr>\n",
       "                        <th id=\"T_50568198_d149_11ea_b600_24fd52f0d54clevel0_row4\" class=\"row_heading level0 row4\" >ageinYears</th>\n",
       "                        <td id=\"T_50568198_d149_11ea_b600_24fd52f0d54crow4_col0\" class=\"data row4 col0\" >-0.091</td>\n",
       "                        <td id=\"T_50568198_d149_11ea_b600_24fd52f0d54crow4_col1\" class=\"data row4 col1\" >0.052</td>\n",
       "                        <td id=\"T_50568198_d149_11ea_b600_24fd52f0d54crow4_col2\" class=\"data row4 col2\" >0.2</td>\n",
       "                        <td id=\"T_50568198_d149_11ea_b600_24fd52f0d54crow4_col3\" class=\"data row4 col3\" >0.15</td>\n",
       "                        <td id=\"T_50568198_d149_11ea_b600_24fd52f0d54crow4_col4\" class=\"data row4 col4\" >1</td>\n",
       "                        <td id=\"T_50568198_d149_11ea_b600_24fd52f0d54crow4_col5\" class=\"data row4 col5\" >0.11</td>\n",
       "            </tr>\n",
       "            <tr>\n",
       "                        <th id=\"T_50568198_d149_11ea_b600_24fd52f0d54clevel0_row5\" class=\"row_heading level0 row5\" >bmi</th>\n",
       "                        <td id=\"T_50568198_d149_11ea_b600_24fd52f0d54crow5_col0\" class=\"data row5 col0\" >-0.21</td>\n",
       "                        <td id=\"T_50568198_d149_11ea_b600_24fd52f0d54crow5_col1\" class=\"data row5 col1\" >0.84</td>\n",
       "                        <td id=\"T_50568198_d149_11ea_b600_24fd52f0d54crow5_col2\" class=\"data row5 col2\" >0.24</td>\n",
       "                        <td id=\"T_50568198_d149_11ea_b600_24fd52f0d54crow5_col3\" class=\"data row5 col3\" >0.21</td>\n",
       "                        <td id=\"T_50568198_d149_11ea_b600_24fd52f0d54crow5_col4\" class=\"data row5 col4\" >0.11</td>\n",
       "                        <td id=\"T_50568198_d149_11ea_b600_24fd52f0d54crow5_col5\" class=\"data row5 col5\" >1</td>\n",
       "            </tr>\n",
       "    </tbody></table>"
      ],
      "text/plain": [
       "<pandas.io.formats.style.Styler at 0x250b52f7688>"
      ]
     },
     "execution_count": 206,
     "metadata": {},
     "output_type": "execute_result"
    }
   ],
   "source": [
    "cardio_corr=cardio_df.drop(['cholesterol','gluc','smoke','alco','cardio','gender','active'],axis=1)\n",
    "cardio_corr.corr().style.background_gradient(cmap='copper').set_precision(2)"
   ]
  },
  {
   "cell_type": "markdown",
   "metadata": {},
   "source": [
    "- BMI and weight have a high correlation, so weight can be dropped"
   ]
  },
  {
   "cell_type": "markdown",
   "metadata": {},
   "source": [
    "- Using pd.get_dummies on categorical variable 'gender'"
   ]
  },
  {
   "cell_type": "code",
   "execution_count": 207,
   "metadata": {
    "scrolled": true
   },
   "outputs": [
    {
     "data": {
      "text/html": [
       "<div>\n",
       "<style scoped>\n",
       "    .dataframe tbody tr th:only-of-type {\n",
       "        vertical-align: middle;\n",
       "    }\n",
       "\n",
       "    .dataframe tbody tr th {\n",
       "        vertical-align: top;\n",
       "    }\n",
       "\n",
       "    .dataframe thead th {\n",
       "        text-align: right;\n",
       "    }\n",
       "</style>\n",
       "<table border=\"1\" class=\"dataframe\">\n",
       "  <thead>\n",
       "    <tr style=\"text-align: right;\">\n",
       "      <th></th>\n",
       "      <th>height</th>\n",
       "      <th>weight</th>\n",
       "      <th>systolic_BP</th>\n",
       "      <th>diastolic_BP</th>\n",
       "      <th>cholesterol</th>\n",
       "      <th>gluc</th>\n",
       "      <th>smoke</th>\n",
       "      <th>alco</th>\n",
       "      <th>active</th>\n",
       "      <th>cardio</th>\n",
       "      <th>ageinYears</th>\n",
       "      <th>bmi</th>\n",
       "      <th>gender_2</th>\n",
       "    </tr>\n",
       "  </thead>\n",
       "  <tbody>\n",
       "    <tr>\n",
       "      <td>0</td>\n",
       "      <td>168</td>\n",
       "      <td>62.0</td>\n",
       "      <td>110</td>\n",
       "      <td>80</td>\n",
       "      <td>1</td>\n",
       "      <td>1</td>\n",
       "      <td>0</td>\n",
       "      <td>0</td>\n",
       "      <td>1</td>\n",
       "      <td>0</td>\n",
       "      <td>50.0</td>\n",
       "      <td>21.97</td>\n",
       "      <td>1</td>\n",
       "    </tr>\n",
       "    <tr>\n",
       "      <td>1</td>\n",
       "      <td>156</td>\n",
       "      <td>85.0</td>\n",
       "      <td>140</td>\n",
       "      <td>90</td>\n",
       "      <td>3</td>\n",
       "      <td>1</td>\n",
       "      <td>0</td>\n",
       "      <td>0</td>\n",
       "      <td>1</td>\n",
       "      <td>1</td>\n",
       "      <td>55.0</td>\n",
       "      <td>34.93</td>\n",
       "      <td>0</td>\n",
       "    </tr>\n",
       "    <tr>\n",
       "      <td>2</td>\n",
       "      <td>165</td>\n",
       "      <td>64.0</td>\n",
       "      <td>130</td>\n",
       "      <td>70</td>\n",
       "      <td>3</td>\n",
       "      <td>1</td>\n",
       "      <td>0</td>\n",
       "      <td>0</td>\n",
       "      <td>0</td>\n",
       "      <td>1</td>\n",
       "      <td>52.0</td>\n",
       "      <td>23.51</td>\n",
       "      <td>0</td>\n",
       "    </tr>\n",
       "    <tr>\n",
       "      <td>3</td>\n",
       "      <td>169</td>\n",
       "      <td>82.0</td>\n",
       "      <td>150</td>\n",
       "      <td>100</td>\n",
       "      <td>1</td>\n",
       "      <td>1</td>\n",
       "      <td>0</td>\n",
       "      <td>0</td>\n",
       "      <td>1</td>\n",
       "      <td>1</td>\n",
       "      <td>48.0</td>\n",
       "      <td>28.71</td>\n",
       "      <td>1</td>\n",
       "    </tr>\n",
       "    <tr>\n",
       "      <td>5</td>\n",
       "      <td>151</td>\n",
       "      <td>67.0</td>\n",
       "      <td>120</td>\n",
       "      <td>80</td>\n",
       "      <td>2</td>\n",
       "      <td>2</td>\n",
       "      <td>0</td>\n",
       "      <td>0</td>\n",
       "      <td>0</td>\n",
       "      <td>0</td>\n",
       "      <td>60.0</td>\n",
       "      <td>29.38</td>\n",
       "      <td>0</td>\n",
       "    </tr>\n",
       "    <tr>\n",
       "      <td>...</td>\n",
       "      <td>...</td>\n",
       "      <td>...</td>\n",
       "      <td>...</td>\n",
       "      <td>...</td>\n",
       "      <td>...</td>\n",
       "      <td>...</td>\n",
       "      <td>...</td>\n",
       "      <td>...</td>\n",
       "      <td>...</td>\n",
       "      <td>...</td>\n",
       "      <td>...</td>\n",
       "      <td>...</td>\n",
       "      <td>...</td>\n",
       "    </tr>\n",
       "    <tr>\n",
       "      <td>69993</td>\n",
       "      <td>172</td>\n",
       "      <td>70.0</td>\n",
       "      <td>130</td>\n",
       "      <td>90</td>\n",
       "      <td>1</td>\n",
       "      <td>1</td>\n",
       "      <td>0</td>\n",
       "      <td>0</td>\n",
       "      <td>1</td>\n",
       "      <td>1</td>\n",
       "      <td>54.0</td>\n",
       "      <td>23.66</td>\n",
       "      <td>0</td>\n",
       "    </tr>\n",
       "    <tr>\n",
       "      <td>69994</td>\n",
       "      <td>165</td>\n",
       "      <td>80.0</td>\n",
       "      <td>150</td>\n",
       "      <td>80</td>\n",
       "      <td>1</td>\n",
       "      <td>1</td>\n",
       "      <td>0</td>\n",
       "      <td>0</td>\n",
       "      <td>1</td>\n",
       "      <td>1</td>\n",
       "      <td>58.0</td>\n",
       "      <td>29.38</td>\n",
       "      <td>0</td>\n",
       "    </tr>\n",
       "    <tr>\n",
       "      <td>69995</td>\n",
       "      <td>168</td>\n",
       "      <td>76.0</td>\n",
       "      <td>120</td>\n",
       "      <td>80</td>\n",
       "      <td>1</td>\n",
       "      <td>1</td>\n",
       "      <td>1</td>\n",
       "      <td>0</td>\n",
       "      <td>1</td>\n",
       "      <td>0</td>\n",
       "      <td>53.0</td>\n",
       "      <td>26.93</td>\n",
       "      <td>1</td>\n",
       "    </tr>\n",
       "    <tr>\n",
       "      <td>69998</td>\n",
       "      <td>163</td>\n",
       "      <td>72.0</td>\n",
       "      <td>135</td>\n",
       "      <td>80</td>\n",
       "      <td>1</td>\n",
       "      <td>2</td>\n",
       "      <td>0</td>\n",
       "      <td>0</td>\n",
       "      <td>0</td>\n",
       "      <td>1</td>\n",
       "      <td>61.0</td>\n",
       "      <td>27.10</td>\n",
       "      <td>0</td>\n",
       "    </tr>\n",
       "    <tr>\n",
       "      <td>69999</td>\n",
       "      <td>170</td>\n",
       "      <td>72.0</td>\n",
       "      <td>120</td>\n",
       "      <td>80</td>\n",
       "      <td>2</td>\n",
       "      <td>1</td>\n",
       "      <td>0</td>\n",
       "      <td>0</td>\n",
       "      <td>1</td>\n",
       "      <td>0</td>\n",
       "      <td>56.0</td>\n",
       "      <td>24.91</td>\n",
       "      <td>0</td>\n",
       "    </tr>\n",
       "  </tbody>\n",
       "</table>\n",
       "<p>61904 rows × 13 columns</p>\n",
       "</div>"
      ],
      "text/plain": [
       "       height  weight  systolic_BP  diastolic_BP  cholesterol  gluc  smoke  \\\n",
       "0         168    62.0          110            80            1     1      0   \n",
       "1         156    85.0          140            90            3     1      0   \n",
       "2         165    64.0          130            70            3     1      0   \n",
       "3         169    82.0          150           100            1     1      0   \n",
       "5         151    67.0          120            80            2     2      0   \n",
       "...       ...     ...          ...           ...          ...   ...    ...   \n",
       "69993     172    70.0          130            90            1     1      0   \n",
       "69994     165    80.0          150            80            1     1      0   \n",
       "69995     168    76.0          120            80            1     1      1   \n",
       "69998     163    72.0          135            80            1     2      0   \n",
       "69999     170    72.0          120            80            2     1      0   \n",
       "\n",
       "       alco  active  cardio  ageinYears    bmi  gender_2  \n",
       "0         0       1       0        50.0  21.97         1  \n",
       "1         0       1       1        55.0  34.93         0  \n",
       "2         0       0       1        52.0  23.51         0  \n",
       "3         0       1       1        48.0  28.71         1  \n",
       "5         0       0       0        60.0  29.38         0  \n",
       "...     ...     ...     ...         ...    ...       ...  \n",
       "69993     0       1       1        54.0  23.66         0  \n",
       "69994     0       1       1        58.0  29.38         0  \n",
       "69995     0       1       0        53.0  26.93         1  \n",
       "69998     0       0       1        61.0  27.10         0  \n",
       "69999     0       1       0        56.0  24.91         0  \n",
       "\n",
       "[61904 rows x 13 columns]"
      ]
     },
     "execution_count": 207,
     "metadata": {},
     "output_type": "execute_result"
    }
   ],
   "source": [
    "cardio_1 = pd.get_dummies(cardio_df,columns=['gender'],drop_first=True)\n",
    "cardio_1"
   ]
  },
  {
   "cell_type": "markdown",
   "metadata": {},
   "source": [
    "### Assigning string values to numerical values of categorical columns\n",
    "\n",
    "### for better visualisations"
   ]
  },
  {
   "cell_type": "code",
   "execution_count": 208,
   "metadata": {
    "scrolled": true
   },
   "outputs": [
    {
     "data": {
      "text/html": [
       "<div>\n",
       "<style scoped>\n",
       "    .dataframe tbody tr th:only-of-type {\n",
       "        vertical-align: middle;\n",
       "    }\n",
       "\n",
       "    .dataframe tbody tr th {\n",
       "        vertical-align: top;\n",
       "    }\n",
       "\n",
       "    .dataframe thead th {\n",
       "        text-align: right;\n",
       "    }\n",
       "</style>\n",
       "<table border=\"1\" class=\"dataframe\">\n",
       "  <thead>\n",
       "    <tr style=\"text-align: right;\">\n",
       "      <th></th>\n",
       "      <th>height</th>\n",
       "      <th>weight</th>\n",
       "      <th>systolic_BP</th>\n",
       "      <th>diastolic_BP</th>\n",
       "      <th>cholesterol</th>\n",
       "      <th>gluc</th>\n",
       "      <th>smoke</th>\n",
       "      <th>alco</th>\n",
       "      <th>active</th>\n",
       "      <th>cardio</th>\n",
       "      <th>ageinYears</th>\n",
       "      <th>bmi</th>\n",
       "      <th>gender_2</th>\n",
       "    </tr>\n",
       "  </thead>\n",
       "  <tbody>\n",
       "    <tr>\n",
       "      <td>0</td>\n",
       "      <td>168</td>\n",
       "      <td>62.0</td>\n",
       "      <td>110</td>\n",
       "      <td>80</td>\n",
       "      <td>Normal</td>\n",
       "      <td>Normal</td>\n",
       "      <td>Non Smoker</td>\n",
       "      <td>Non Alcoholic</td>\n",
       "      <td>Active</td>\n",
       "      <td>No Disease</td>\n",
       "      <td>50.0</td>\n",
       "      <td>21.97</td>\n",
       "      <td>Male</td>\n",
       "    </tr>\n",
       "    <tr>\n",
       "      <td>1</td>\n",
       "      <td>156</td>\n",
       "      <td>85.0</td>\n",
       "      <td>140</td>\n",
       "      <td>90</td>\n",
       "      <td>Very High</td>\n",
       "      <td>Normal</td>\n",
       "      <td>Non Smoker</td>\n",
       "      <td>Non Alcoholic</td>\n",
       "      <td>Active</td>\n",
       "      <td>Disease</td>\n",
       "      <td>55.0</td>\n",
       "      <td>34.93</td>\n",
       "      <td>Female</td>\n",
       "    </tr>\n",
       "    <tr>\n",
       "      <td>2</td>\n",
       "      <td>165</td>\n",
       "      <td>64.0</td>\n",
       "      <td>130</td>\n",
       "      <td>70</td>\n",
       "      <td>Very High</td>\n",
       "      <td>Normal</td>\n",
       "      <td>Non Smoker</td>\n",
       "      <td>Non Alcoholic</td>\n",
       "      <td>Sedentary</td>\n",
       "      <td>Disease</td>\n",
       "      <td>52.0</td>\n",
       "      <td>23.51</td>\n",
       "      <td>Female</td>\n",
       "    </tr>\n",
       "    <tr>\n",
       "      <td>3</td>\n",
       "      <td>169</td>\n",
       "      <td>82.0</td>\n",
       "      <td>150</td>\n",
       "      <td>100</td>\n",
       "      <td>Normal</td>\n",
       "      <td>Normal</td>\n",
       "      <td>Non Smoker</td>\n",
       "      <td>Non Alcoholic</td>\n",
       "      <td>Active</td>\n",
       "      <td>Disease</td>\n",
       "      <td>48.0</td>\n",
       "      <td>28.71</td>\n",
       "      <td>Male</td>\n",
       "    </tr>\n",
       "    <tr>\n",
       "      <td>5</td>\n",
       "      <td>151</td>\n",
       "      <td>67.0</td>\n",
       "      <td>120</td>\n",
       "      <td>80</td>\n",
       "      <td>High</td>\n",
       "      <td>High</td>\n",
       "      <td>Non Smoker</td>\n",
       "      <td>Non Alcoholic</td>\n",
       "      <td>Sedentary</td>\n",
       "      <td>No Disease</td>\n",
       "      <td>60.0</td>\n",
       "      <td>29.38</td>\n",
       "      <td>Female</td>\n",
       "    </tr>\n",
       "    <tr>\n",
       "      <td>...</td>\n",
       "      <td>...</td>\n",
       "      <td>...</td>\n",
       "      <td>...</td>\n",
       "      <td>...</td>\n",
       "      <td>...</td>\n",
       "      <td>...</td>\n",
       "      <td>...</td>\n",
       "      <td>...</td>\n",
       "      <td>...</td>\n",
       "      <td>...</td>\n",
       "      <td>...</td>\n",
       "      <td>...</td>\n",
       "      <td>...</td>\n",
       "    </tr>\n",
       "    <tr>\n",
       "      <td>69993</td>\n",
       "      <td>172</td>\n",
       "      <td>70.0</td>\n",
       "      <td>130</td>\n",
       "      <td>90</td>\n",
       "      <td>Normal</td>\n",
       "      <td>Normal</td>\n",
       "      <td>Non Smoker</td>\n",
       "      <td>Non Alcoholic</td>\n",
       "      <td>Active</td>\n",
       "      <td>Disease</td>\n",
       "      <td>54.0</td>\n",
       "      <td>23.66</td>\n",
       "      <td>Female</td>\n",
       "    </tr>\n",
       "    <tr>\n",
       "      <td>69994</td>\n",
       "      <td>165</td>\n",
       "      <td>80.0</td>\n",
       "      <td>150</td>\n",
       "      <td>80</td>\n",
       "      <td>Normal</td>\n",
       "      <td>Normal</td>\n",
       "      <td>Non Smoker</td>\n",
       "      <td>Non Alcoholic</td>\n",
       "      <td>Active</td>\n",
       "      <td>Disease</td>\n",
       "      <td>58.0</td>\n",
       "      <td>29.38</td>\n",
       "      <td>Female</td>\n",
       "    </tr>\n",
       "    <tr>\n",
       "      <td>69995</td>\n",
       "      <td>168</td>\n",
       "      <td>76.0</td>\n",
       "      <td>120</td>\n",
       "      <td>80</td>\n",
       "      <td>Normal</td>\n",
       "      <td>Normal</td>\n",
       "      <td>Smoker</td>\n",
       "      <td>Non Alcoholic</td>\n",
       "      <td>Active</td>\n",
       "      <td>No Disease</td>\n",
       "      <td>53.0</td>\n",
       "      <td>26.93</td>\n",
       "      <td>Male</td>\n",
       "    </tr>\n",
       "    <tr>\n",
       "      <td>69998</td>\n",
       "      <td>163</td>\n",
       "      <td>72.0</td>\n",
       "      <td>135</td>\n",
       "      <td>80</td>\n",
       "      <td>Normal</td>\n",
       "      <td>High</td>\n",
       "      <td>Non Smoker</td>\n",
       "      <td>Non Alcoholic</td>\n",
       "      <td>Sedentary</td>\n",
       "      <td>Disease</td>\n",
       "      <td>61.0</td>\n",
       "      <td>27.10</td>\n",
       "      <td>Female</td>\n",
       "    </tr>\n",
       "    <tr>\n",
       "      <td>69999</td>\n",
       "      <td>170</td>\n",
       "      <td>72.0</td>\n",
       "      <td>120</td>\n",
       "      <td>80</td>\n",
       "      <td>High</td>\n",
       "      <td>Normal</td>\n",
       "      <td>Non Smoker</td>\n",
       "      <td>Non Alcoholic</td>\n",
       "      <td>Active</td>\n",
       "      <td>No Disease</td>\n",
       "      <td>56.0</td>\n",
       "      <td>24.91</td>\n",
       "      <td>Female</td>\n",
       "    </tr>\n",
       "  </tbody>\n",
       "</table>\n",
       "<p>61904 rows × 13 columns</p>\n",
       "</div>"
      ],
      "text/plain": [
       "       height  weight  systolic_BP  diastolic_BP cholesterol    gluc  \\\n",
       "0         168    62.0          110            80      Normal  Normal   \n",
       "1         156    85.0          140            90   Very High  Normal   \n",
       "2         165    64.0          130            70   Very High  Normal   \n",
       "3         169    82.0          150           100      Normal  Normal   \n",
       "5         151    67.0          120            80        High    High   \n",
       "...       ...     ...          ...           ...         ...     ...   \n",
       "69993     172    70.0          130            90      Normal  Normal   \n",
       "69994     165    80.0          150            80      Normal  Normal   \n",
       "69995     168    76.0          120            80      Normal  Normal   \n",
       "69998     163    72.0          135            80      Normal    High   \n",
       "69999     170    72.0          120            80        High  Normal   \n",
       "\n",
       "            smoke           alco     active      cardio  ageinYears    bmi  \\\n",
       "0      Non Smoker  Non Alcoholic     Active  No Disease        50.0  21.97   \n",
       "1      Non Smoker  Non Alcoholic     Active     Disease        55.0  34.93   \n",
       "2      Non Smoker  Non Alcoholic  Sedentary     Disease        52.0  23.51   \n",
       "3      Non Smoker  Non Alcoholic     Active     Disease        48.0  28.71   \n",
       "5      Non Smoker  Non Alcoholic  Sedentary  No Disease        60.0  29.38   \n",
       "...           ...            ...        ...         ...         ...    ...   \n",
       "69993  Non Smoker  Non Alcoholic     Active     Disease        54.0  23.66   \n",
       "69994  Non Smoker  Non Alcoholic     Active     Disease        58.0  29.38   \n",
       "69995      Smoker  Non Alcoholic     Active  No Disease        53.0  26.93   \n",
       "69998  Non Smoker  Non Alcoholic  Sedentary     Disease        61.0  27.10   \n",
       "69999  Non Smoker  Non Alcoholic     Active  No Disease        56.0  24.91   \n",
       "\n",
       "      gender_2  \n",
       "0         Male  \n",
       "1       Female  \n",
       "2       Female  \n",
       "3         Male  \n",
       "5       Female  \n",
       "...        ...  \n",
       "69993   Female  \n",
       "69994   Female  \n",
       "69995     Male  \n",
       "69998   Female  \n",
       "69999   Female  \n",
       "\n",
       "[61904 rows x 13 columns]"
      ]
     },
     "execution_count": 208,
     "metadata": {},
     "output_type": "execute_result"
    }
   ],
   "source": [
    "a={0:'No Disease',1:'Disease'}\n",
    "b={0:'Female',1:'Male'}\n",
    "c={1:'Normal', 2:'High', 3:'Very High'}\n",
    "d={0:'Non Smoker',1:'Smoker'}\n",
    "e={0:'Non Alcoholic',1:'Alcoholic'}\n",
    "f={0:'Sedentary',1:'Active'}\n",
    "\n",
    "cardio_1['cardio']=cardio_1['cardio'].map(a)\n",
    "cardio_1['gender_2']=cardio_1['gender_2'].map(b)\n",
    "cardio_1['gluc']=cardio_1['gluc'].map(c)\n",
    "cardio_1['cholesterol']=cardio_1['cholesterol'].map(c)\n",
    "cardio_1['smoke']=cardio_1['smoke'].map(d)\n",
    "cardio_1['alco']=cardio_1['alco'].map(e)\n",
    "cardio_1['active']=cardio_1['active'].map(f)\n",
    "\n",
    "cardio_1"
   ]
  },
  {
   "cell_type": "markdown",
   "metadata": {},
   "source": [
    "### Coverting numerical data to categorical data"
   ]
  },
  {
   "cell_type": "code",
   "execution_count": 209,
   "metadata": {
    "scrolled": true
   },
   "outputs": [
    {
     "data": {
      "text/html": [
       "<div>\n",
       "<style scoped>\n",
       "    .dataframe tbody tr th:only-of-type {\n",
       "        vertical-align: middle;\n",
       "    }\n",
       "\n",
       "    .dataframe tbody tr th {\n",
       "        vertical-align: top;\n",
       "    }\n",
       "\n",
       "    .dataframe thead th {\n",
       "        text-align: right;\n",
       "    }\n",
       "</style>\n",
       "<table border=\"1\" class=\"dataframe\">\n",
       "  <thead>\n",
       "    <tr style=\"text-align: right;\">\n",
       "      <th></th>\n",
       "      <th>weight</th>\n",
       "      <th>cholesterol</th>\n",
       "      <th>gluc</th>\n",
       "      <th>smoke</th>\n",
       "      <th>alco</th>\n",
       "      <th>active</th>\n",
       "      <th>cardio</th>\n",
       "      <th>gender_2</th>\n",
       "      <th>agegrps</th>\n",
       "      <th>sysgrp</th>\n",
       "      <th>diagrp</th>\n",
       "      <th>bmigrp</th>\n",
       "    </tr>\n",
       "  </thead>\n",
       "  <tbody>\n",
       "    <tr>\n",
       "      <td>0</td>\n",
       "      <td>62.0</td>\n",
       "      <td>Normal</td>\n",
       "      <td>Normal</td>\n",
       "      <td>Non Smoker</td>\n",
       "      <td>Non Alcoholic</td>\n",
       "      <td>Active</td>\n",
       "      <td>No Disease</td>\n",
       "      <td>Male</td>\n",
       "      <td>40-50 grp</td>\n",
       "      <td>normal</td>\n",
       "      <td>normal</td>\n",
       "      <td>normal</td>\n",
       "    </tr>\n",
       "    <tr>\n",
       "      <td>1</td>\n",
       "      <td>85.0</td>\n",
       "      <td>Very High</td>\n",
       "      <td>Normal</td>\n",
       "      <td>Non Smoker</td>\n",
       "      <td>Non Alcoholic</td>\n",
       "      <td>Active</td>\n",
       "      <td>Disease</td>\n",
       "      <td>Female</td>\n",
       "      <td>50-65 grp</td>\n",
       "      <td>high</td>\n",
       "      <td>normal</td>\n",
       "      <td>obese</td>\n",
       "    </tr>\n",
       "    <tr>\n",
       "      <td>2</td>\n",
       "      <td>64.0</td>\n",
       "      <td>Very High</td>\n",
       "      <td>Normal</td>\n",
       "      <td>Non Smoker</td>\n",
       "      <td>Non Alcoholic</td>\n",
       "      <td>Sedentary</td>\n",
       "      <td>Disease</td>\n",
       "      <td>Female</td>\n",
       "      <td>50-65 grp</td>\n",
       "      <td>normal</td>\n",
       "      <td>low</td>\n",
       "      <td>normal</td>\n",
       "    </tr>\n",
       "    <tr>\n",
       "      <td>3</td>\n",
       "      <td>82.0</td>\n",
       "      <td>Normal</td>\n",
       "      <td>Normal</td>\n",
       "      <td>Non Smoker</td>\n",
       "      <td>Non Alcoholic</td>\n",
       "      <td>Active</td>\n",
       "      <td>Disease</td>\n",
       "      <td>Male</td>\n",
       "      <td>40-50 grp</td>\n",
       "      <td>high</td>\n",
       "      <td>high</td>\n",
       "      <td>overweight</td>\n",
       "    </tr>\n",
       "    <tr>\n",
       "      <td>5</td>\n",
       "      <td>67.0</td>\n",
       "      <td>High</td>\n",
       "      <td>High</td>\n",
       "      <td>Non Smoker</td>\n",
       "      <td>Non Alcoholic</td>\n",
       "      <td>Sedentary</td>\n",
       "      <td>No Disease</td>\n",
       "      <td>Female</td>\n",
       "      <td>50-65 grp</td>\n",
       "      <td>normal</td>\n",
       "      <td>normal</td>\n",
       "      <td>overweight</td>\n",
       "    </tr>\n",
       "    <tr>\n",
       "      <td>...</td>\n",
       "      <td>...</td>\n",
       "      <td>...</td>\n",
       "      <td>...</td>\n",
       "      <td>...</td>\n",
       "      <td>...</td>\n",
       "      <td>...</td>\n",
       "      <td>...</td>\n",
       "      <td>...</td>\n",
       "      <td>...</td>\n",
       "      <td>...</td>\n",
       "      <td>...</td>\n",
       "      <td>...</td>\n",
       "    </tr>\n",
       "    <tr>\n",
       "      <td>69993</td>\n",
       "      <td>70.0</td>\n",
       "      <td>Normal</td>\n",
       "      <td>Normal</td>\n",
       "      <td>Non Smoker</td>\n",
       "      <td>Non Alcoholic</td>\n",
       "      <td>Active</td>\n",
       "      <td>Disease</td>\n",
       "      <td>Female</td>\n",
       "      <td>50-65 grp</td>\n",
       "      <td>normal</td>\n",
       "      <td>normal</td>\n",
       "      <td>normal</td>\n",
       "    </tr>\n",
       "    <tr>\n",
       "      <td>69994</td>\n",
       "      <td>80.0</td>\n",
       "      <td>Normal</td>\n",
       "      <td>Normal</td>\n",
       "      <td>Non Smoker</td>\n",
       "      <td>Non Alcoholic</td>\n",
       "      <td>Active</td>\n",
       "      <td>Disease</td>\n",
       "      <td>Female</td>\n",
       "      <td>50-65 grp</td>\n",
       "      <td>high</td>\n",
       "      <td>normal</td>\n",
       "      <td>overweight</td>\n",
       "    </tr>\n",
       "    <tr>\n",
       "      <td>69995</td>\n",
       "      <td>76.0</td>\n",
       "      <td>Normal</td>\n",
       "      <td>Normal</td>\n",
       "      <td>Smoker</td>\n",
       "      <td>Non Alcoholic</td>\n",
       "      <td>Active</td>\n",
       "      <td>No Disease</td>\n",
       "      <td>Male</td>\n",
       "      <td>50-65 grp</td>\n",
       "      <td>normal</td>\n",
       "      <td>normal</td>\n",
       "      <td>overweight</td>\n",
       "    </tr>\n",
       "    <tr>\n",
       "      <td>69998</td>\n",
       "      <td>72.0</td>\n",
       "      <td>Normal</td>\n",
       "      <td>High</td>\n",
       "      <td>Non Smoker</td>\n",
       "      <td>Non Alcoholic</td>\n",
       "      <td>Sedentary</td>\n",
       "      <td>Disease</td>\n",
       "      <td>Female</td>\n",
       "      <td>50-65 grp</td>\n",
       "      <td>high</td>\n",
       "      <td>normal</td>\n",
       "      <td>overweight</td>\n",
       "    </tr>\n",
       "    <tr>\n",
       "      <td>69999</td>\n",
       "      <td>72.0</td>\n",
       "      <td>High</td>\n",
       "      <td>Normal</td>\n",
       "      <td>Non Smoker</td>\n",
       "      <td>Non Alcoholic</td>\n",
       "      <td>Active</td>\n",
       "      <td>No Disease</td>\n",
       "      <td>Female</td>\n",
       "      <td>50-65 grp</td>\n",
       "      <td>normal</td>\n",
       "      <td>normal</td>\n",
       "      <td>overweight</td>\n",
       "    </tr>\n",
       "  </tbody>\n",
       "</table>\n",
       "<p>61904 rows × 12 columns</p>\n",
       "</div>"
      ],
      "text/plain": [
       "       weight cholesterol    gluc       smoke           alco     active  \\\n",
       "0        62.0      Normal  Normal  Non Smoker  Non Alcoholic     Active   \n",
       "1        85.0   Very High  Normal  Non Smoker  Non Alcoholic     Active   \n",
       "2        64.0   Very High  Normal  Non Smoker  Non Alcoholic  Sedentary   \n",
       "3        82.0      Normal  Normal  Non Smoker  Non Alcoholic     Active   \n",
       "5        67.0        High    High  Non Smoker  Non Alcoholic  Sedentary   \n",
       "...       ...         ...     ...         ...            ...        ...   \n",
       "69993    70.0      Normal  Normal  Non Smoker  Non Alcoholic     Active   \n",
       "69994    80.0      Normal  Normal  Non Smoker  Non Alcoholic     Active   \n",
       "69995    76.0      Normal  Normal      Smoker  Non Alcoholic     Active   \n",
       "69998    72.0      Normal    High  Non Smoker  Non Alcoholic  Sedentary   \n",
       "69999    72.0        High  Normal  Non Smoker  Non Alcoholic     Active   \n",
       "\n",
       "           cardio gender_2    agegrps  sysgrp  diagrp      bmigrp  \n",
       "0      No Disease     Male  40-50 grp  normal  normal      normal  \n",
       "1         Disease   Female  50-65 grp    high  normal       obese  \n",
       "2         Disease   Female  50-65 grp  normal     low      normal  \n",
       "3         Disease     Male  40-50 grp    high    high  overweight  \n",
       "5      No Disease   Female  50-65 grp  normal  normal  overweight  \n",
       "...           ...      ...        ...     ...     ...         ...  \n",
       "69993     Disease   Female  50-65 grp  normal  normal      normal  \n",
       "69994     Disease   Female  50-65 grp    high  normal  overweight  \n",
       "69995  No Disease     Male  50-65 grp  normal  normal  overweight  \n",
       "69998     Disease   Female  50-65 grp    high  normal  overweight  \n",
       "69999  No Disease   Female  50-65 grp  normal  normal  overweight  \n",
       "\n",
       "[61904 rows x 12 columns]"
      ]
     },
     "execution_count": 209,
     "metadata": {},
     "output_type": "execute_result"
    }
   ],
   "source": [
    "cardio_1['agegrps']=pd.cut(cardio_1.ageinYears,bins=[0,29,40,50,65,100],\\\n",
    "                            labels=['0-29 grp','30-40 grp','40-50 grp','50-65 grp','65+ grp'])\n",
    "cardio_1['sysgrp']=pd.cut(cardio_1.systolic_BP,bins=[0,70,100,130,180,240],\\\n",
    "                            labels=['very_low','low','normal','high','extreme'])\n",
    "cardio_1['diagrp']=pd.cut(cardio_1.diastolic_BP,bins=[0,40,70,90,100,200],\\\n",
    "                            labels=['very_low','low','normal','high','extreme'])\n",
    "cardio_1['bmigrp']=pd.cut(cardio_1.bmi,bins=[0,18.5,24.9,29.9,50],\\\n",
    "                            labels=['underweight','normal','overweight','obese'])\n",
    "#cardio_df2\n",
    "cardio_1=cardio_1.drop(['systolic_BP','diastolic_BP','height','bmi','ageinYears'],axis=1)\n",
    "cardio_1"
   ]
  },
  {
   "cell_type": "markdown",
   "metadata": {},
   "source": [
    "## Heart Disease by Gender"
   ]
  },
  {
   "cell_type": "code",
   "execution_count": 254,
   "metadata": {},
   "outputs": [
    {
     "name": "stdout",
     "output_type": "stream",
     "text": [
      "cardio    Disease  No Disease\n",
      "gender_2                     \n",
      "Female      19753       20307\n",
      "Male        10734       11110\n"
     ]
    },
    {
     "data": {
      "image/png": "[encoded data removed]",
      "text/plain": [
       "<Figure size 432x288 with 1 Axes>"
      ]
     },
     "metadata": {
      "needs_background": "light"
     },
     "output_type": "display_data"
    }
   ],
   "source": [
    "cto_n = pd.crosstab(cardio_1.gender_2,cardio_1.cardio)\n",
    "print(cto_n)\n",
    "sns.countplot(x='gender_2',hue='cardio',data=cardio_1)\n",
    "plt.show()"
   ]
  },
  {
   "cell_type": "code",
   "execution_count": 211,
   "metadata": {},
   "outputs": [
    {
     "name": "stdout",
     "output_type": "stream",
     "text": [
      "0.15518745292272054 0.693626528308628 1 [[19729.08 20330.92]\n",
      " [10757.92 11086.08]]\n"
     ]
    }
   ],
   "source": [
    "from scipy.stats.contingency import chi2_contingency\n",
    "cto = pd.crosstab(cardio_1.gender_2,cardio_1.cardio)\n",
    "chi_2, p_val, dof, cte = chi2_contingency(cto)\n",
    "print(chi_2, p_val, dof, cte)"
   ]
  },
  {
   "cell_type": "code",
   "execution_count": 212,
   "metadata": {},
   "outputs": [
    {
     "name": "stdout",
     "output_type": "stream",
     "text": [
      "cardio    Disease  No Disease\n",
      "gender_2                     \n",
      "Female      49.31       50.69\n",
      "Male        49.14       50.86\n"
     ]
    },
    {
     "data": {
      "image/png": "[encoded data removed]",
      "text/plain": [
       "<Figure size 432x288 with 1 Axes>"
      ]
     },
     "metadata": {
      "needs_background": "light"
     },
     "output_type": "display_data"
    }
   ],
   "source": [
    "cto_n = pd.crosstab(cardio_1.gender_2,cardio_1.cardio,normalize='index')\\\n",
    ".round(4)*100\n",
    "print(cto_n)\n",
    "cto_n.plot.bar(stacked=False,color = ['red','pink'])#,title='Distribution by Gender \\n 1=Female , 2=Male')\n",
    "ax = plt.subplot(111)\n",
    "ax.legend()\n",
    "plt.suptitle('Heart Disease by Gender',fontsize=16, y=1.0)\n",
    "plt.ylabel('Frequency count in %',fontsize=12)\n",
    "#plt.xlabel('Gender (1=Female,2=Male)',fontsize=12)\n",
    "plt.xticks(rotation=0, ha='right')\n",
    "#plt.title('Cardio(0=No Disease,1=Disease)',fontsize=12)\n",
    "ax.legend(bbox_to_anchor=(1.3, 1), shadow=True, ncol=1)\n",
    "plt.show()"
   ]
  },
  {
   "cell_type": "markdown",
   "metadata": {},
   "source": [
    "## Heart Disease by Cholesterol level"
   ]
  },
  {
   "cell_type": "code",
   "execution_count": 213,
   "metadata": {},
   "outputs": [
    {
     "name": "stdout",
     "output_type": "stream",
     "text": [
      "2926.452056926021 0.0 2 [[ 3998.02  4119.98]\n",
      " [23076.04 23779.96]\n",
      " [ 3412.94  3517.06]]\n"
     ]
    }
   ],
   "source": [
    "cto_1 = pd.crosstab(cardio_1.cholesterol,cardio_1.cardio)\n",
    "chi_2, p_val, dof, cte = chi2_contingency(cto_1)\n",
    "print(chi_2, p_val, dof, cte)"
   ]
  },
  {
   "cell_type": "code",
   "execution_count": 214,
   "metadata": {},
   "outputs": [
    {
     "name": "stdout",
     "output_type": "stream",
     "text": [
      "cardio       Disease  No Disease\n",
      "cholesterol                     \n",
      "High           59.37       40.63\n",
      "Normal         43.54       56.46\n",
      "Very High      75.99       24.01\n"
     ]
    },
    {
     "data": {
      "image/png": "[encoded data removed]",
      "text/plain": [
       "<Figure size 432x288 with 1 Axes>"
      ]
     },
     "metadata": {
      "needs_background": "light"
     },
     "output_type": "display_data"
    }
   ],
   "source": [
    "cto_1_n = pd.crosstab(cardio_1.cholesterol,cardio_1.cardio,normalize='index')\\\n",
    ".round(4)*100\n",
    "print(cto_1_n)\n",
    "cto_1_n.plot.bar(stacked=False,color = ['green','blue'])#,title='Distribution by Gender \\n 1=Female , 2=Male')\n",
    "ax = plt.subplot(111)\n",
    "ax.legend()\n",
    "plt.suptitle('Heart Disease by Cholesterol level',fontsize=16, y=1.0)\n",
    "plt.ylabel('Frequency count in %',fontsize=12)\n",
    "#plt.xlabel('Gender (1=Female,2=Male)',fontsize=12)\n",
    "plt.xticks(rotation=0, ha='right')\n",
    "#plt.title('Cardio(0=No Disease,1=Disease)',fontsize=12)\n",
    "ax.legend(bbox_to_anchor=(1.3, 1), shadow=True, ncol=1)\n",
    "plt.show()"
   ]
  },
  {
   "cell_type": "markdown",
   "metadata": {},
   "source": [
    "## Heart Disease by BloodGlucose level"
   ]
  },
  {
   "cell_type": "code",
   "execution_count": 215,
   "metadata": {},
   "outputs": [
    {
     "name": "stdout",
     "output_type": "stream",
     "text": [
      "464.2970914711733 1.5106630445671543e-101 2 [[ 2138.38  2203.62]\n",
      " [26069.87 26865.13]\n",
      " [ 2278.74  2348.26]]\n"
     ]
    }
   ],
   "source": [
    "cto_2 = pd.crosstab(cardio_1.gluc,cardio_1.cardio)\n",
    "chi_2, p_val, dof, cte = chi2_contingency(cto_2)\n",
    "print(chi_2, p_val, dof, cte)"
   ]
  },
  {
   "cell_type": "code",
   "execution_count": 216,
   "metadata": {},
   "outputs": [
    {
     "name": "stdout",
     "output_type": "stream",
     "text": [
      "cardio     Disease  No Disease\n",
      "gluc                          \n",
      "High         57.81       42.19\n",
      "Normal       47.49       52.51\n",
      "Very High    61.36       38.64\n"
     ]
    },
    {
     "data": {
      "image/png": "[encoded data removed]",
      "text/plain": [
       "<Figure size 432x288 with 1 Axes>"
      ]
     },
     "metadata": {
      "needs_background": "light"
     },
     "output_type": "display_data"
    }
   ],
   "source": [
    "cto_2_n = pd.crosstab(cardio_1.gluc,cardio_1.cardio,normalize='index')\\\n",
    ".round(4)*100\n",
    "print(cto_2_n)\n",
    "cto_2_n.plot.bar(stacked=False,color = ['m','k'])#,title='Distribution by Gender \\n 1=Female , 2=Male')\n",
    "ax = plt.subplot(111)\n",
    "ax.legend()\n",
    "plt.suptitle('Heart Disease by BloodGlucose level',fontsize=16, y=1.0)\n",
    "plt.ylabel('Frequency count in %',fontsize=12)\n",
    "#plt.xlabel('Gender (1=Female,2=Male)',fontsize=12)\n",
    "plt.xticks(rotation=0, ha='right')\n",
    "#plt.title('Cardio(0=No Disease,1=Disease)',fontsize=12)\n",
    "ax.legend(bbox_to_anchor=(1.3, 1), shadow=True, ncol=1)\n",
    "plt.show()"
   ]
  },
  {
   "cell_type": "markdown",
   "metadata": {},
   "source": [
    "## Heart Disease by Smoking Status"
   ]
  },
  {
   "cell_type": "code",
   "execution_count": 217,
   "metadata": {},
   "outputs": [
    {
     "name": "stdout",
     "output_type": "stream",
     "text": [
      "25.825378594820855 3.737418351820072e-07 1 [[27826.09 28674.91]\n",
      " [ 2660.91  2742.09]]\n"
     ]
    }
   ],
   "source": [
    "cto_3 = pd.crosstab(cardio_1.smoke,cardio_1.cardio)\n",
    "chi_2, p_val, dof, cte = chi2_contingency(cto_3)\n",
    "print(chi_2, p_val, dof, cte)"
   ]
  },
  {
   "cell_type": "code",
   "execution_count": 218,
   "metadata": {},
   "outputs": [
    {
     "name": "stdout",
     "output_type": "stream",
     "text": [
      "cardio      Disease  No Disease\n",
      "smoke                          \n",
      "Non Smoker    49.57       50.43\n",
      "Smoker        45.94       54.06\n"
     ]
    },
    {
     "data": {
      "image/png": "[encoded data removed]",
      "text/plain": [
       "<Figure size 432x288 with 1 Axes>"
      ]
     },
     "metadata": {
      "needs_background": "light"
     },
     "output_type": "display_data"
    }
   ],
   "source": [
    "cto_3_n = pd.crosstab(cardio_1.smoke,cardio_1.cardio,normalize='index')\\\n",
    ".round(4)*100\n",
    "print(cto_3_n)\n",
    "cto_3_n.plot.bar(stacked=False,color = ['y','m'])#,title='Distribution by Gender \\n 1=Female , 2=Male')\n",
    "ax = plt.subplot(111)\n",
    "ax.legend()\n",
    "plt.suptitle('Heart Disease by Smoking Status',fontsize=16, y=1.0)\n",
    "plt.ylabel('Frequency count in %',fontsize=12)\n",
    "#plt.xlabel('Gender (1=Female,2=Male)',fontsize=12)\n",
    "plt.xticks(rotation=0, ha='right')\n",
    "#plt.title('Cardio(0=No Disease,1=Disease)',fontsize=12)\n",
    "ax.legend(bbox_to_anchor=(1.3, 1), shadow=True, ncol=1)\n",
    "plt.show()"
   ]
  },
  {
   "cell_type": "markdown",
   "metadata": {},
   "source": [
    "## Heart Disease by Alcohol consumption"
   ]
  },
  {
   "cell_type": "code",
   "execution_count": 219,
   "metadata": {
    "scrolled": true
   },
   "outputs": [
    {
     "name": "stdout",
     "output_type": "stream",
     "text": [
      "9.64675466599318 0.0018968641405321775 1 [[ 1598.62  1647.38]\n",
      " [28888.38 29769.62]]\n"
     ]
    }
   ],
   "source": [
    "cto_4 = pd.crosstab(cardio_1.alco,cardio_1.cardio)\n",
    "chi_2, p_val, dof, cte = chi2_contingency(cto_4)\n",
    "print(chi_2, p_val, dof, cte)"
   ]
  },
  {
   "cell_type": "code",
   "execution_count": 220,
   "metadata": {},
   "outputs": [
    {
     "name": "stdout",
     "output_type": "stream",
     "text": [
      "cardio         Disease  No Disease\n",
      "alco                              \n",
      "Alcoholic        46.58       53.42\n",
      "Non Alcoholic    49.40       50.60\n"
     ]
    },
    {
     "data": {
      "image/png": "[encoded data removed]",
      "text/plain": [
       "<Figure size 432x288 with 1 Axes>"
      ]
     },
     "metadata": {
      "needs_background": "light"
     },
     "output_type": "display_data"
    }
   ],
   "source": [
    "cto_4_n = pd.crosstab(cardio_1.alco,cardio_1.cardio,normalize='index')\\\n",
    ".round(4)*100\n",
    "print(cto_4_n)\n",
    "cto_4_n.plot.bar(stacked=False,color=['darkgreen','yellow'])#,title='Distribution by Gender \\n 1=Female , 2=Male')\n",
    "ax = plt.subplot(111)\n",
    "ax.legend()\n",
    "plt.suptitle('Heart Disease by Alcohol consumption',fontsize=16, y=1.0)\n",
    "plt.ylabel('Frequency count in %',fontsize=12)\n",
    "#plt.xlabel('Gender (1=Female,2=Male)',fontsize=12)\n",
    "plt.xticks(rotation=0, ha='right')\n",
    "#plt.title('Cardio(0=No Disease,1=Disease)',fontsize=12)\n",
    "ax.legend(bbox_to_anchor=(1.3, 1), shadow=True, ncol=1)\n",
    "plt.show()"
   ]
  },
  {
   "cell_type": "markdown",
   "metadata": {},
   "source": [
    "## Heart Disease by level of Physical Activity"
   ]
  },
  {
   "cell_type": "code",
   "execution_count": 222,
   "metadata": {},
   "outputs": [
    {
     "name": "stdout",
     "output_type": "stream",
     "text": [
      "83.51789897455645 6.314167579896643e-20 1 [[24520.5 25268.5]\n",
      " [ 5966.5  6148.5]]\n"
     ]
    }
   ],
   "source": [
    "cto_5 = pd.crosstab(cardio_1.active,cardio_1.cardio)\n",
    "chi_2, p_val, dof, cte = chi2_contingency(cto_5)\n",
    "print(chi_2, p_val, dof, cte)"
   ]
  },
  {
   "cell_type": "code",
   "execution_count": 256,
   "metadata": {},
   "outputs": [
    {
     "name": "stdout",
     "output_type": "stream",
     "text": [
      "cardio     Disease  No Disease\n",
      "active                        \n",
      "Active       48.34       51.66\n",
      "Sedentary    52.98       47.02\n"
     ]
    },
    {
     "data": {
      "image/png": "[encoded data removed]",
      "text/plain": [
       "<Figure size 432x288 with 1 Axes>"
      ]
     },
     "metadata": {
      "needs_background": "light"
     },
     "output_type": "display_data"
    }
   ],
   "source": [
    "cto_5_n = pd.crosstab(cardio_1.active,cardio_1.cardio,normalize='index')\\\n",
    ".round(4)*100\n",
    "print(cto_5_n)\n",
    "cto_5_n.plot.bar(stacked=False,color=['indigo','lightgreen'])#,title='Distribution by Gender \\n 1=Female , 2=Male')\n",
    "ax = plt.subplot(111)\n",
    "ax.legend()\n",
    "plt.suptitle('Heart Disease by Physical Activity',fontsize=16, y=1.0)\n",
    "plt.ylabel('Frequency count in %',fontsize=12)\n",
    "#plt.xlabel('Gender (1=Female,2=Male)',fontsize=12)\n",
    "plt.xticks(rotation=0, ha='right')\n",
    "#plt.title('Cardio(0=No Disease,1=Disease)',fontsize=12)\n",
    "ax.legend(bbox_to_anchor=(1.3, 1), shadow=True, ncol=1)\n",
    "plt.show()"
   ]
  },
  {
   "cell_type": "markdown",
   "metadata": {},
   "source": [
    "## Heart Disease by Age Group"
   ]
  },
  {
   "cell_type": "code",
   "execution_count": 224,
   "metadata": {
    "scrolled": true
   },
   "outputs": [
    {
     "name": "stdout",
     "output_type": "stream",
     "text": [
      "2338.1315396601494 0.0 2 [[ 1333.17  1373.83]\n",
      " [ 9071.14  9347.86]\n",
      " [20082.69 20695.31]]\n"
     ]
    }
   ],
   "source": [
    "cto_6 = pd.crosstab(cardio_1.agegrps,cardio_1.cardio)\n",
    "chi_2, p_val, dof, cte = chi2_contingency(cto_6)\n",
    "print(chi_2, p_val, dof, cte)"
   ]
  },
  {
   "cell_type": "code",
   "execution_count": 225,
   "metadata": {
    "scrolled": true
   },
   "outputs": [
    {
     "data": {
      "text/html": [
       "<div>\n",
       "<style scoped>\n",
       "    .dataframe tbody tr th:only-of-type {\n",
       "        vertical-align: middle;\n",
       "    }\n",
       "\n",
       "    .dataframe tbody tr th {\n",
       "        vertical-align: top;\n",
       "    }\n",
       "\n",
       "    .dataframe thead th {\n",
       "        text-align: right;\n",
       "    }\n",
       "</style>\n",
       "<table border=\"1\" class=\"dataframe\">\n",
       "  <thead>\n",
       "    <tr style=\"text-align: right;\">\n",
       "      <th>cardio</th>\n",
       "      <th>Disease</th>\n",
       "      <th>No Disease</th>\n",
       "    </tr>\n",
       "    <tr>\n",
       "      <th>agegrps</th>\n",
       "      <th></th>\n",
       "      <th></th>\n",
       "    </tr>\n",
       "  </thead>\n",
       "  <tbody>\n",
       "    <tr>\n",
       "      <td>30-40 grp</td>\n",
       "      <td>602</td>\n",
       "      <td>2105</td>\n",
       "    </tr>\n",
       "    <tr>\n",
       "      <td>40-50 grp</td>\n",
       "      <td>7109</td>\n",
       "      <td>11310</td>\n",
       "    </tr>\n",
       "    <tr>\n",
       "      <td>50-65 grp</td>\n",
       "      <td>22776</td>\n",
       "      <td>18002</td>\n",
       "    </tr>\n",
       "  </tbody>\n",
       "</table>\n",
       "</div>"
      ],
      "text/plain": [
       "cardio     Disease  No Disease\n",
       "agegrps                       \n",
       "30-40 grp      602        2105\n",
       "40-50 grp     7109       11310\n",
       "50-65 grp    22776       18002"
      ]
     },
     "execution_count": 225,
     "metadata": {},
     "output_type": "execute_result"
    }
   ],
   "source": [
    "cto_6"
   ]
  },
  {
   "cell_type": "code",
   "execution_count": 226,
   "metadata": {},
   "outputs": [
    {
     "name": "stdout",
     "output_type": "stream",
     "text": [
      "cardio     Disease  No Disease\n",
      "agegrps                       \n",
      "30-40 grp    22.24       77.76\n",
      "40-50 grp    38.60       61.40\n",
      "50-65 grp    55.85       44.15\n"
     ]
    },
    {
     "data": {
      "image/png": "[encoded data removed]",
      "text/plain": [
       "<Figure size 432x288 with 1 Axes>"
      ]
     },
     "metadata": {
      "needs_background": "light"
     },
     "output_type": "display_data"
    }
   ],
   "source": [
    "cto_6_n = pd.crosstab(cardio_1.agegrps,cardio_1.cardio,normalize='index')\\\n",
    ".round(4)*100\n",
    "print(cto_6_n)\n",
    "cto_6_n.plot.bar(stacked=False,color=['maroon','orange'])#,title='Distribution by Gender \\n 1=Female , 2=Male')\n",
    "ax = plt.subplot(111)\n",
    "ax.legend()\n",
    "plt.suptitle('Heart Disease by Age Group',fontsize=16, y=1.0)\n",
    "plt.ylabel('Frequency count in %',fontsize=12)\n",
    "#plt.xlabel('Gender (1=Female,2=Male)',fontsize=12)\n",
    "plt.xticks(rotation=0, ha='right')\n",
    "#plt.title('Cardio(0=No Disease,1=Disease)',fontsize=12)\n",
    "ax.legend(bbox_to_anchor=(1.3, 1), shadow=True, ncol=1)\n",
    "plt.show()"
   ]
  },
  {
   "cell_type": "markdown",
   "metadata": {},
   "source": [
    "## Heart Disease by Systolic BP"
   ]
  },
  {
   "cell_type": "code",
   "execution_count": 227,
   "metadata": {},
   "outputs": [
    {
     "name": "stdout",
     "output_type": "stream",
     "text": [
      "10505.471698284497 0.0 2 [[  932.28   960.72]\n",
      " [21555.72 22213.28]\n",
      " [ 7999.    8243.  ]]\n"
     ]
    }
   ],
   "source": [
    "cto_7 = pd.crosstab(cardio_1.sysgrp,cardio_1.cardio)\n",
    "chi_2, p_val, dof, cte = chi2_contingency(cto_7)\n",
    "print(chi_2, p_val, dof, cte)"
   ]
  },
  {
   "cell_type": "code",
   "execution_count": 228,
   "metadata": {},
   "outputs": [
    {
     "name": "stdout",
     "output_type": "stream",
     "text": [
      "cardio  Disease  No Disease\n",
      "sysgrp                     \n",
      "low       18.49       81.51\n",
      "normal    37.93       62.07\n",
      "high      83.33       16.67\n"
     ]
    },
    {
     "data": {
      "image/png": "[encoded data removed]",
      "text/plain": [
       "<Figure size 432x288 with 1 Axes>"
      ]
     },
     "metadata": {
      "needs_background": "light"
     },
     "output_type": "display_data"
    }
   ],
   "source": [
    "cto_7_n = pd.crosstab(cardio_1.sysgrp,cardio_1.cardio,normalize='index')\\\n",
    ".round(4)*100\n",
    "print(cto_7_n)\n",
    "cto_7_n.plot.bar(stacked=False,color=['purple','lightgreen'])#,title='Distribution by Gender \\n 1=Female , 2=Male')\n",
    "ax = plt.subplot(111)\n",
    "ax.legend()\n",
    "plt.suptitle('Heart Disease by Systolic BP',fontsize=16, y=1.0)\n",
    "plt.ylabel('Frequency count in %',fontsize=12)\n",
    "#plt.xlabel('Gender (1=Female,2=Male)',fontsize=12)\n",
    "plt.xticks(rotation=0, ha='right')\n",
    "#plt.title('Cardio(0=No Disease,1=Disease)',fontsize=12)\n",
    "ax.legend(bbox_to_anchor=(1.3, 1), shadow=True, ncol=1)\n",
    "plt.show()"
   ]
  },
  {
   "cell_type": "markdown",
   "metadata": {},
   "source": [
    "## Heart Disease by Diastolic BP"
   ]
  },
  {
   "cell_type": "code",
   "execution_count": 229,
   "metadata": {},
   "outputs": [
    {
     "name": "stdout",
     "output_type": "stream",
     "text": [
      "3430.8018246400547 0.0 3 [[5.00e+03 5.15e+03]\n",
      " [2.37e+04 2.44e+04]\n",
      " [1.78e+03 1.83e+03]\n",
      " [1.38e+01 1.42e+01]]\n"
     ]
    }
   ],
   "source": [
    "cto_8 = pd.crosstab(cardio_1.diagrp,cardio_1.cardio)\n",
    "chi_2, p_val, dof, cte = chi2_contingency(cto_8)\n",
    "print(chi_2, p_val, dof, cte)"
   ]
  },
  {
   "cell_type": "code",
   "execution_count": 230,
   "metadata": {},
   "outputs": [
    {
     "name": "stdout",
     "output_type": "stream",
     "text": [
      "cardio   Disease  No Disease\n",
      "diagrp                      \n",
      "low        28.61       71.39\n",
      "normal     51.06       48.94\n",
      "high       82.82       17.18\n",
      "extreme    75.00       25.00\n"
     ]
    },
    {
     "data": {
      "image/png": "[encoded data removed]",
      "text/plain": [
       "<Figure size 432x288 with 1 Axes>"
      ]
     },
     "metadata": {
      "needs_background": "light"
     },
     "output_type": "display_data"
    }
   ],
   "source": [
    "cto_8_n = pd.crosstab(cardio_1.diagrp,cardio_1.cardio,normalize='index')\\\n",
    ".round(4)*100\n",
    "print(cto_8_n)\n",
    "cto_8_n.plot.bar(stacked=False,color=['brown','c'])#,title='Distribution by Gender \\n 1=Female , 2=Male')\n",
    "ax = plt.subplot(111)\n",
    "ax.legend()\n",
    "plt.suptitle('Heart Disease by Diastolic BP',fontsize=16, y=1.0)\n",
    "plt.ylabel('Frequency count in %',fontsize=12)\n",
    "#plt.xlabel('Gender (1=Female,2=Male)',fontsize=12)\n",
    "plt.xticks(rotation=0, ha='right')\n",
    "#plt.title('Cardio(0=No Disease,1=Disease)',fontsize=12)\n",
    "ax.legend(bbox_to_anchor=(1.3, 1), shadow=True, ncol=1)\n",
    "plt.show()"
   ]
  },
  {
   "cell_type": "markdown",
   "metadata": {},
   "source": [
    "## Heart Disease by BMI"
   ]
  },
  {
   "cell_type": "code",
   "execution_count": 231,
   "metadata": {
    "scrolled": true
   },
   "outputs": [
    {
     "name": "stdout",
     "output_type": "stream",
     "text": [
      "1630.7496472359985 0.0 3 [[  185.67   191.33]\n",
      " [11157.32 11497.68]\n",
      " [11838.44 12199.56]\n",
      " [ 7305.57  7528.43]]\n"
     ]
    }
   ],
   "source": [
    "cto_9 = pd.crosstab(cardio_1.bmigrp,cardio_1.cardio)\n",
    "chi_2, p_val, dof, cte = chi2_contingency(cto_9)\n",
    "print(chi_2, p_val, dof, cte)"
   ]
  },
  {
   "cell_type": "code",
   "execution_count": 232,
   "metadata": {},
   "outputs": [
    {
     "name": "stdout",
     "output_type": "stream",
     "text": [
      "cardio       Disease  No Disease\n",
      "bmigrp                          \n",
      "underweight    30.77       69.23\n",
      "normal         40.37       59.63\n",
      "overweight     50.53       49.47\n",
      "obese          61.20       38.80\n"
     ]
    },
    {
     "data": {
      "image/png": "[encoded data removed]",
      "text/plain": [
       "<Figure size 432x288 with 1 Axes>"
      ]
     },
     "metadata": {
      "needs_background": "light"
     },
     "output_type": "display_data"
    }
   ],
   "source": [
    "cto_9_n = pd.crosstab(cardio_1.bmigrp,cardio_1.cardio,normalize='index')\\\n",
    ".round(4)*100\n",
    "print(cto_9_n)\n",
    "cto_9_n.plot.bar(stacked=False,color=['red','orange',])#,title='Distribution by Gender \\n 1=Female , 2=Male')\n",
    "ax = plt.subplot(111)\n",
    "ax.legend()\n",
    "plt.suptitle('Heart Disease by BMI',fontsize=16, y=1.0)\n",
    "plt.ylabel('Frequency count in %',fontsize=12)\n",
    "#plt.xlabel('Gender (1=Female,2=Male)',fontsize=12)\n",
    "plt.xticks(rotation=0, ha='right')\n",
    "#plt.title('Cardio(0=No Disease,1=Disease)',fontsize=12)\n",
    "ax.legend(bbox_to_anchor=(1.3, 1), shadow=True, ncol=1)\n",
    "plt.show()"
   ]
  },
  {
   "cell_type": "code",
   "execution_count": 233,
   "metadata": {
    "scrolled": true
   },
   "outputs": [
    {
     "data": {
      "text/html": [
       "<div>\n",
       "<style scoped>\n",
       "    .dataframe tbody tr th:only-of-type {\n",
       "        vertical-align: middle;\n",
       "    }\n",
       "\n",
       "    .dataframe tbody tr th {\n",
       "        vertical-align: top;\n",
       "    }\n",
       "\n",
       "    .dataframe thead th {\n",
       "        text-align: right;\n",
       "    }\n",
       "</style>\n",
       "<table border=\"1\" class=\"dataframe\">\n",
       "  <thead>\n",
       "    <tr style=\"text-align: right;\">\n",
       "      <th></th>\n",
       "      <th>gender</th>\n",
       "      <th>height</th>\n",
       "      <th>weight</th>\n",
       "      <th>systolic_BP</th>\n",
       "      <th>diastolic_BP</th>\n",
       "      <th>cholesterol</th>\n",
       "      <th>gluc</th>\n",
       "      <th>smoke</th>\n",
       "      <th>alco</th>\n",
       "      <th>active</th>\n",
       "      <th>cardio</th>\n",
       "      <th>ageinYears</th>\n",
       "      <th>bmi</th>\n",
       "    </tr>\n",
       "  </thead>\n",
       "  <tbody>\n",
       "    <tr>\n",
       "      <td>0</td>\n",
       "      <td>2</td>\n",
       "      <td>168</td>\n",
       "      <td>62.0</td>\n",
       "      <td>110</td>\n",
       "      <td>80</td>\n",
       "      <td>1</td>\n",
       "      <td>1</td>\n",
       "      <td>0</td>\n",
       "      <td>0</td>\n",
       "      <td>1</td>\n",
       "      <td>0</td>\n",
       "      <td>50.0</td>\n",
       "      <td>21.97</td>\n",
       "    </tr>\n",
       "    <tr>\n",
       "      <td>1</td>\n",
       "      <td>1</td>\n",
       "      <td>156</td>\n",
       "      <td>85.0</td>\n",
       "      <td>140</td>\n",
       "      <td>90</td>\n",
       "      <td>3</td>\n",
       "      <td>1</td>\n",
       "      <td>0</td>\n",
       "      <td>0</td>\n",
       "      <td>1</td>\n",
       "      <td>1</td>\n",
       "      <td>55.0</td>\n",
       "      <td>34.93</td>\n",
       "    </tr>\n",
       "    <tr>\n",
       "      <td>2</td>\n",
       "      <td>1</td>\n",
       "      <td>165</td>\n",
       "      <td>64.0</td>\n",
       "      <td>130</td>\n",
       "      <td>70</td>\n",
       "      <td>3</td>\n",
       "      <td>1</td>\n",
       "      <td>0</td>\n",
       "      <td>0</td>\n",
       "      <td>0</td>\n",
       "      <td>1</td>\n",
       "      <td>52.0</td>\n",
       "      <td>23.51</td>\n",
       "    </tr>\n",
       "    <tr>\n",
       "      <td>3</td>\n",
       "      <td>2</td>\n",
       "      <td>169</td>\n",
       "      <td>82.0</td>\n",
       "      <td>150</td>\n",
       "      <td>100</td>\n",
       "      <td>1</td>\n",
       "      <td>1</td>\n",
       "      <td>0</td>\n",
       "      <td>0</td>\n",
       "      <td>1</td>\n",
       "      <td>1</td>\n",
       "      <td>48.0</td>\n",
       "      <td>28.71</td>\n",
       "    </tr>\n",
       "    <tr>\n",
       "      <td>5</td>\n",
       "      <td>1</td>\n",
       "      <td>151</td>\n",
       "      <td>67.0</td>\n",
       "      <td>120</td>\n",
       "      <td>80</td>\n",
       "      <td>2</td>\n",
       "      <td>2</td>\n",
       "      <td>0</td>\n",
       "      <td>0</td>\n",
       "      <td>0</td>\n",
       "      <td>0</td>\n",
       "      <td>60.0</td>\n",
       "      <td>29.38</td>\n",
       "    </tr>\n",
       "    <tr>\n",
       "      <td>...</td>\n",
       "      <td>...</td>\n",
       "      <td>...</td>\n",
       "      <td>...</td>\n",
       "      <td>...</td>\n",
       "      <td>...</td>\n",
       "      <td>...</td>\n",
       "      <td>...</td>\n",
       "      <td>...</td>\n",
       "      <td>...</td>\n",
       "      <td>...</td>\n",
       "      <td>...</td>\n",
       "      <td>...</td>\n",
       "      <td>...</td>\n",
       "    </tr>\n",
       "    <tr>\n",
       "      <td>69993</td>\n",
       "      <td>1</td>\n",
       "      <td>172</td>\n",
       "      <td>70.0</td>\n",
       "      <td>130</td>\n",
       "      <td>90</td>\n",
       "      <td>1</td>\n",
       "      <td>1</td>\n",
       "      <td>0</td>\n",
       "      <td>0</td>\n",
       "      <td>1</td>\n",
       "      <td>1</td>\n",
       "      <td>54.0</td>\n",
       "      <td>23.66</td>\n",
       "    </tr>\n",
       "    <tr>\n",
       "      <td>69994</td>\n",
       "      <td>1</td>\n",
       "      <td>165</td>\n",
       "      <td>80.0</td>\n",
       "      <td>150</td>\n",
       "      <td>80</td>\n",
       "      <td>1</td>\n",
       "      <td>1</td>\n",
       "      <td>0</td>\n",
       "      <td>0</td>\n",
       "      <td>1</td>\n",
       "      <td>1</td>\n",
       "      <td>58.0</td>\n",
       "      <td>29.38</td>\n",
       "    </tr>\n",
       "    <tr>\n",
       "      <td>69995</td>\n",
       "      <td>2</td>\n",
       "      <td>168</td>\n",
       "      <td>76.0</td>\n",
       "      <td>120</td>\n",
       "      <td>80</td>\n",
       "      <td>1</td>\n",
       "      <td>1</td>\n",
       "      <td>1</td>\n",
       "      <td>0</td>\n",
       "      <td>1</td>\n",
       "      <td>0</td>\n",
       "      <td>53.0</td>\n",
       "      <td>26.93</td>\n",
       "    </tr>\n",
       "    <tr>\n",
       "      <td>69998</td>\n",
       "      <td>1</td>\n",
       "      <td>163</td>\n",
       "      <td>72.0</td>\n",
       "      <td>135</td>\n",
       "      <td>80</td>\n",
       "      <td>1</td>\n",
       "      <td>2</td>\n",
       "      <td>0</td>\n",
       "      <td>0</td>\n",
       "      <td>0</td>\n",
       "      <td>1</td>\n",
       "      <td>61.0</td>\n",
       "      <td>27.10</td>\n",
       "    </tr>\n",
       "    <tr>\n",
       "      <td>69999</td>\n",
       "      <td>1</td>\n",
       "      <td>170</td>\n",
       "      <td>72.0</td>\n",
       "      <td>120</td>\n",
       "      <td>80</td>\n",
       "      <td>2</td>\n",
       "      <td>1</td>\n",
       "      <td>0</td>\n",
       "      <td>0</td>\n",
       "      <td>1</td>\n",
       "      <td>0</td>\n",
       "      <td>56.0</td>\n",
       "      <td>24.91</td>\n",
       "    </tr>\n",
       "  </tbody>\n",
       "</table>\n",
       "<p>61904 rows × 13 columns</p>\n",
       "</div>"
      ],
      "text/plain": [
       "       gender  height  weight  systolic_BP  diastolic_BP  cholesterol  gluc  \\\n",
       "0           2     168    62.0          110            80            1     1   \n",
       "1           1     156    85.0          140            90            3     1   \n",
       "2           1     165    64.0          130            70            3     1   \n",
       "3           2     169    82.0          150           100            1     1   \n",
       "5           1     151    67.0          120            80            2     2   \n",
       "...       ...     ...     ...          ...           ...          ...   ...   \n",
       "69993       1     172    70.0          130            90            1     1   \n",
       "69994       1     165    80.0          150            80            1     1   \n",
       "69995       2     168    76.0          120            80            1     1   \n",
       "69998       1     163    72.0          135            80            1     2   \n",
       "69999       1     170    72.0          120            80            2     1   \n",
       "\n",
       "       smoke  alco  active  cardio  ageinYears    bmi  \n",
       "0          0     0       1       0        50.0  21.97  \n",
       "1          0     0       1       1        55.0  34.93  \n",
       "2          0     0       0       1        52.0  23.51  \n",
       "3          0     0       1       1        48.0  28.71  \n",
       "5          0     0       0       0        60.0  29.38  \n",
       "...      ...   ...     ...     ...         ...    ...  \n",
       "69993      0     0       1       1        54.0  23.66  \n",
       "69994      0     0       1       1        58.0  29.38  \n",
       "69995      1     0       1       0        53.0  26.93  \n",
       "69998      0     0       0       1        61.0  27.10  \n",
       "69999      0     0       1       0        56.0  24.91  \n",
       "\n",
       "[61904 rows x 13 columns]"
      ]
     },
     "execution_count": 233,
     "metadata": {},
     "output_type": "execute_result"
    }
   ],
   "source": [
    "cardio_df2=cardio_df\n",
    "cardio_df2"
   ]
  },
  {
   "cell_type": "markdown",
   "metadata": {},
   "source": [
    "## Preparing the dataset for machine learning models"
   ]
  },
  {
   "cell_type": "code",
   "execution_count": 234,
   "metadata": {},
   "outputs": [
    {
     "data": {
      "text/html": [
       "<div>\n",
       "<style scoped>\n",
       "    .dataframe tbody tr th:only-of-type {\n",
       "        vertical-align: middle;\n",
       "    }\n",
       "\n",
       "    .dataframe tbody tr th {\n",
       "        vertical-align: top;\n",
       "    }\n",
       "\n",
       "    .dataframe thead th {\n",
       "        text-align: right;\n",
       "    }\n",
       "</style>\n",
       "<table border=\"1\" class=\"dataframe\">\n",
       "  <thead>\n",
       "    <tr style=\"text-align: right;\">\n",
       "      <th></th>\n",
       "      <th>height</th>\n",
       "      <th>weight</th>\n",
       "      <th>systolic_BP</th>\n",
       "      <th>diastolic_BP</th>\n",
       "      <th>cholesterol</th>\n",
       "      <th>gluc</th>\n",
       "      <th>smoke</th>\n",
       "      <th>alco</th>\n",
       "      <th>active</th>\n",
       "      <th>cardio</th>\n",
       "      <th>ageinYears</th>\n",
       "      <th>bmi</th>\n",
       "      <th>gender_2</th>\n",
       "    </tr>\n",
       "  </thead>\n",
       "  <tbody>\n",
       "    <tr>\n",
       "      <td>0</td>\n",
       "      <td>168</td>\n",
       "      <td>62.0</td>\n",
       "      <td>110</td>\n",
       "      <td>80</td>\n",
       "      <td>1</td>\n",
       "      <td>1</td>\n",
       "      <td>0</td>\n",
       "      <td>0</td>\n",
       "      <td>1</td>\n",
       "      <td>0</td>\n",
       "      <td>50.0</td>\n",
       "      <td>21.97</td>\n",
       "      <td>1</td>\n",
       "    </tr>\n",
       "    <tr>\n",
       "      <td>1</td>\n",
       "      <td>156</td>\n",
       "      <td>85.0</td>\n",
       "      <td>140</td>\n",
       "      <td>90</td>\n",
       "      <td>3</td>\n",
       "      <td>1</td>\n",
       "      <td>0</td>\n",
       "      <td>0</td>\n",
       "      <td>1</td>\n",
       "      <td>1</td>\n",
       "      <td>55.0</td>\n",
       "      <td>34.93</td>\n",
       "      <td>0</td>\n",
       "    </tr>\n",
       "    <tr>\n",
       "      <td>2</td>\n",
       "      <td>165</td>\n",
       "      <td>64.0</td>\n",
       "      <td>130</td>\n",
       "      <td>70</td>\n",
       "      <td>3</td>\n",
       "      <td>1</td>\n",
       "      <td>0</td>\n",
       "      <td>0</td>\n",
       "      <td>0</td>\n",
       "      <td>1</td>\n",
       "      <td>52.0</td>\n",
       "      <td>23.51</td>\n",
       "      <td>0</td>\n",
       "    </tr>\n",
       "    <tr>\n",
       "      <td>3</td>\n",
       "      <td>169</td>\n",
       "      <td>82.0</td>\n",
       "      <td>150</td>\n",
       "      <td>100</td>\n",
       "      <td>1</td>\n",
       "      <td>1</td>\n",
       "      <td>0</td>\n",
       "      <td>0</td>\n",
       "      <td>1</td>\n",
       "      <td>1</td>\n",
       "      <td>48.0</td>\n",
       "      <td>28.71</td>\n",
       "      <td>1</td>\n",
       "    </tr>\n",
       "    <tr>\n",
       "      <td>5</td>\n",
       "      <td>151</td>\n",
       "      <td>67.0</td>\n",
       "      <td>120</td>\n",
       "      <td>80</td>\n",
       "      <td>2</td>\n",
       "      <td>2</td>\n",
       "      <td>0</td>\n",
       "      <td>0</td>\n",
       "      <td>0</td>\n",
       "      <td>0</td>\n",
       "      <td>60.0</td>\n",
       "      <td>29.38</td>\n",
       "      <td>0</td>\n",
       "    </tr>\n",
       "    <tr>\n",
       "      <td>...</td>\n",
       "      <td>...</td>\n",
       "      <td>...</td>\n",
       "      <td>...</td>\n",
       "      <td>...</td>\n",
       "      <td>...</td>\n",
       "      <td>...</td>\n",
       "      <td>...</td>\n",
       "      <td>...</td>\n",
       "      <td>...</td>\n",
       "      <td>...</td>\n",
       "      <td>...</td>\n",
       "      <td>...</td>\n",
       "      <td>...</td>\n",
       "    </tr>\n",
       "    <tr>\n",
       "      <td>69993</td>\n",
       "      <td>172</td>\n",
       "      <td>70.0</td>\n",
       "      <td>130</td>\n",
       "      <td>90</td>\n",
       "      <td>1</td>\n",
       "      <td>1</td>\n",
       "      <td>0</td>\n",
       "      <td>0</td>\n",
       "      <td>1</td>\n",
       "      <td>1</td>\n",
       "      <td>54.0</td>\n",
       "      <td>23.66</td>\n",
       "      <td>0</td>\n",
       "    </tr>\n",
       "    <tr>\n",
       "      <td>69994</td>\n",
       "      <td>165</td>\n",
       "      <td>80.0</td>\n",
       "      <td>150</td>\n",
       "      <td>80</td>\n",
       "      <td>1</td>\n",
       "      <td>1</td>\n",
       "      <td>0</td>\n",
       "      <td>0</td>\n",
       "      <td>1</td>\n",
       "      <td>1</td>\n",
       "      <td>58.0</td>\n",
       "      <td>29.38</td>\n",
       "      <td>0</td>\n",
       "    </tr>\n",
       "    <tr>\n",
       "      <td>69995</td>\n",
       "      <td>168</td>\n",
       "      <td>76.0</td>\n",
       "      <td>120</td>\n",
       "      <td>80</td>\n",
       "      <td>1</td>\n",
       "      <td>1</td>\n",
       "      <td>1</td>\n",
       "      <td>0</td>\n",
       "      <td>1</td>\n",
       "      <td>0</td>\n",
       "      <td>53.0</td>\n",
       "      <td>26.93</td>\n",
       "      <td>1</td>\n",
       "    </tr>\n",
       "    <tr>\n",
       "      <td>69998</td>\n",
       "      <td>163</td>\n",
       "      <td>72.0</td>\n",
       "      <td>135</td>\n",
       "      <td>80</td>\n",
       "      <td>1</td>\n",
       "      <td>2</td>\n",
       "      <td>0</td>\n",
       "      <td>0</td>\n",
       "      <td>0</td>\n",
       "      <td>1</td>\n",
       "      <td>61.0</td>\n",
       "      <td>27.10</td>\n",
       "      <td>0</td>\n",
       "    </tr>\n",
       "    <tr>\n",
       "      <td>69999</td>\n",
       "      <td>170</td>\n",
       "      <td>72.0</td>\n",
       "      <td>120</td>\n",
       "      <td>80</td>\n",
       "      <td>2</td>\n",
       "      <td>1</td>\n",
       "      <td>0</td>\n",
       "      <td>0</td>\n",
       "      <td>1</td>\n",
       "      <td>0</td>\n",
       "      <td>56.0</td>\n",
       "      <td>24.91</td>\n",
       "      <td>0</td>\n",
       "    </tr>\n",
       "  </tbody>\n",
       "</table>\n",
       "<p>61904 rows × 13 columns</p>\n",
       "</div>"
      ],
      "text/plain": [
       "       height  weight  systolic_BP  diastolic_BP  cholesterol  gluc  smoke  \\\n",
       "0         168    62.0          110            80            1     1      0   \n",
       "1         156    85.0          140            90            3     1      0   \n",
       "2         165    64.0          130            70            3     1      0   \n",
       "3         169    82.0          150           100            1     1      0   \n",
       "5         151    67.0          120            80            2     2      0   \n",
       "...       ...     ...          ...           ...          ...   ...    ...   \n",
       "69993     172    70.0          130            90            1     1      0   \n",
       "69994     165    80.0          150            80            1     1      0   \n",
       "69995     168    76.0          120            80            1     1      1   \n",
       "69998     163    72.0          135            80            1     2      0   \n",
       "69999     170    72.0          120            80            2     1      0   \n",
       "\n",
       "       alco  active  cardio  ageinYears    bmi  gender_2  \n",
       "0         0       1       0        50.0  21.97         1  \n",
       "1         0       1       1        55.0  34.93         0  \n",
       "2         0       0       1        52.0  23.51         0  \n",
       "3         0       1       1        48.0  28.71         1  \n",
       "5         0       0       0        60.0  29.38         0  \n",
       "...     ...     ...     ...         ...    ...       ...  \n",
       "69993     0       1       1        54.0  23.66         0  \n",
       "69994     0       1       1        58.0  29.38         0  \n",
       "69995     0       1       0        53.0  26.93         1  \n",
       "69998     0       0       1        61.0  27.10         0  \n",
       "69999     0       1       0        56.0  24.91         0  \n",
       "\n",
       "[61904 rows x 13 columns]"
      ]
     },
     "execution_count": 234,
     "metadata": {},
     "output_type": "execute_result"
    }
   ],
   "source": [
    "cardio_df2 = pd.get_dummies(cardio_df2,columns=['gender'],drop_first=True)\n",
    "cardio_df2"
   ]
  },
  {
   "cell_type": "markdown",
   "metadata": {},
   "source": [
    "- From Chi-Square Independence Test for variable 'gender_2' and variable 'cardio' there is no relationship between them\n",
    "- Also from the correlation matrix weight and BMI have high correlation\n",
    "- So, gender_2 and weight can be dropped before we use the dataset for building models"
   ]
  },
  {
   "cell_type": "code",
   "execution_count": 235,
   "metadata": {},
   "outputs": [
    {
     "data": {
      "text/html": [
       "<div>\n",
       "<style scoped>\n",
       "    .dataframe tbody tr th:only-of-type {\n",
       "        vertical-align: middle;\n",
       "    }\n",
       "\n",
       "    .dataframe tbody tr th {\n",
       "        vertical-align: top;\n",
       "    }\n",
       "\n",
       "    .dataframe thead th {\n",
       "        text-align: right;\n",
       "    }\n",
       "</style>\n",
       "<table border=\"1\" class=\"dataframe\">\n",
       "  <thead>\n",
       "    <tr style=\"text-align: right;\">\n",
       "      <th></th>\n",
       "      <th>height</th>\n",
       "      <th>systolic_BP</th>\n",
       "      <th>diastolic_BP</th>\n",
       "      <th>cholesterol</th>\n",
       "      <th>gluc</th>\n",
       "      <th>smoke</th>\n",
       "      <th>alco</th>\n",
       "      <th>active</th>\n",
       "      <th>cardio</th>\n",
       "      <th>ageinYears</th>\n",
       "      <th>bmi</th>\n",
       "    </tr>\n",
       "  </thead>\n",
       "  <tbody>\n",
       "    <tr>\n",
       "      <td>0</td>\n",
       "      <td>168</td>\n",
       "      <td>110</td>\n",
       "      <td>80</td>\n",
       "      <td>1</td>\n",
       "      <td>1</td>\n",
       "      <td>0</td>\n",
       "      <td>0</td>\n",
       "      <td>1</td>\n",
       "      <td>0</td>\n",
       "      <td>50.0</td>\n",
       "      <td>21.97</td>\n",
       "    </tr>\n",
       "    <tr>\n",
       "      <td>1</td>\n",
       "      <td>156</td>\n",
       "      <td>140</td>\n",
       "      <td>90</td>\n",
       "      <td>3</td>\n",
       "      <td>1</td>\n",
       "      <td>0</td>\n",
       "      <td>0</td>\n",
       "      <td>1</td>\n",
       "      <td>1</td>\n",
       "      <td>55.0</td>\n",
       "      <td>34.93</td>\n",
       "    </tr>\n",
       "    <tr>\n",
       "      <td>2</td>\n",
       "      <td>165</td>\n",
       "      <td>130</td>\n",
       "      <td>70</td>\n",
       "      <td>3</td>\n",
       "      <td>1</td>\n",
       "      <td>0</td>\n",
       "      <td>0</td>\n",
       "      <td>0</td>\n",
       "      <td>1</td>\n",
       "      <td>52.0</td>\n",
       "      <td>23.51</td>\n",
       "    </tr>\n",
       "    <tr>\n",
       "      <td>3</td>\n",
       "      <td>169</td>\n",
       "      <td>150</td>\n",
       "      <td>100</td>\n",
       "      <td>1</td>\n",
       "      <td>1</td>\n",
       "      <td>0</td>\n",
       "      <td>0</td>\n",
       "      <td>1</td>\n",
       "      <td>1</td>\n",
       "      <td>48.0</td>\n",
       "      <td>28.71</td>\n",
       "    </tr>\n",
       "    <tr>\n",
       "      <td>5</td>\n",
       "      <td>151</td>\n",
       "      <td>120</td>\n",
       "      <td>80</td>\n",
       "      <td>2</td>\n",
       "      <td>2</td>\n",
       "      <td>0</td>\n",
       "      <td>0</td>\n",
       "      <td>0</td>\n",
       "      <td>0</td>\n",
       "      <td>60.0</td>\n",
       "      <td>29.38</td>\n",
       "    </tr>\n",
       "    <tr>\n",
       "      <td>...</td>\n",
       "      <td>...</td>\n",
       "      <td>...</td>\n",
       "      <td>...</td>\n",
       "      <td>...</td>\n",
       "      <td>...</td>\n",
       "      <td>...</td>\n",
       "      <td>...</td>\n",
       "      <td>...</td>\n",
       "      <td>...</td>\n",
       "      <td>...</td>\n",
       "      <td>...</td>\n",
       "    </tr>\n",
       "    <tr>\n",
       "      <td>69993</td>\n",
       "      <td>172</td>\n",
       "      <td>130</td>\n",
       "      <td>90</td>\n",
       "      <td>1</td>\n",
       "      <td>1</td>\n",
       "      <td>0</td>\n",
       "      <td>0</td>\n",
       "      <td>1</td>\n",
       "      <td>1</td>\n",
       "      <td>54.0</td>\n",
       "      <td>23.66</td>\n",
       "    </tr>\n",
       "    <tr>\n",
       "      <td>69994</td>\n",
       "      <td>165</td>\n",
       "      <td>150</td>\n",
       "      <td>80</td>\n",
       "      <td>1</td>\n",
       "      <td>1</td>\n",
       "      <td>0</td>\n",
       "      <td>0</td>\n",
       "      <td>1</td>\n",
       "      <td>1</td>\n",
       "      <td>58.0</td>\n",
       "      <td>29.38</td>\n",
       "    </tr>\n",
       "    <tr>\n",
       "      <td>69995</td>\n",
       "      <td>168</td>\n",
       "      <td>120</td>\n",
       "      <td>80</td>\n",
       "      <td>1</td>\n",
       "      <td>1</td>\n",
       "      <td>1</td>\n",
       "      <td>0</td>\n",
       "      <td>1</td>\n",
       "      <td>0</td>\n",
       "      <td>53.0</td>\n",
       "      <td>26.93</td>\n",
       "    </tr>\n",
       "    <tr>\n",
       "      <td>69998</td>\n",
       "      <td>163</td>\n",
       "      <td>135</td>\n",
       "      <td>80</td>\n",
       "      <td>1</td>\n",
       "      <td>2</td>\n",
       "      <td>0</td>\n",
       "      <td>0</td>\n",
       "      <td>0</td>\n",
       "      <td>1</td>\n",
       "      <td>61.0</td>\n",
       "      <td>27.10</td>\n",
       "    </tr>\n",
       "    <tr>\n",
       "      <td>69999</td>\n",
       "      <td>170</td>\n",
       "      <td>120</td>\n",
       "      <td>80</td>\n",
       "      <td>2</td>\n",
       "      <td>1</td>\n",
       "      <td>0</td>\n",
       "      <td>0</td>\n",
       "      <td>1</td>\n",
       "      <td>0</td>\n",
       "      <td>56.0</td>\n",
       "      <td>24.91</td>\n",
       "    </tr>\n",
       "  </tbody>\n",
       "</table>\n",
       "<p>61904 rows × 11 columns</p>\n",
       "</div>"
      ],
      "text/plain": [
       "       height  systolic_BP  diastolic_BP  cholesterol  gluc  smoke  alco  \\\n",
       "0         168          110            80            1     1      0     0   \n",
       "1         156          140            90            3     1      0     0   \n",
       "2         165          130            70            3     1      0     0   \n",
       "3         169          150           100            1     1      0     0   \n",
       "5         151          120            80            2     2      0     0   \n",
       "...       ...          ...           ...          ...   ...    ...   ...   \n",
       "69993     172          130            90            1     1      0     0   \n",
       "69994     165          150            80            1     1      0     0   \n",
       "69995     168          120            80            1     1      1     0   \n",
       "69998     163          135            80            1     2      0     0   \n",
       "69999     170          120            80            2     1      0     0   \n",
       "\n",
       "       active  cardio  ageinYears    bmi  \n",
       "0           1       0        50.0  21.97  \n",
       "1           1       1        55.0  34.93  \n",
       "2           0       1        52.0  23.51  \n",
       "3           1       1        48.0  28.71  \n",
       "5           0       0        60.0  29.38  \n",
       "...       ...     ...         ...    ...  \n",
       "69993       1       1        54.0  23.66  \n",
       "69994       1       1        58.0  29.38  \n",
       "69995       1       0        53.0  26.93  \n",
       "69998       0       1        61.0  27.10  \n",
       "69999       1       0        56.0  24.91  \n",
       "\n",
       "[61904 rows x 11 columns]"
      ]
     },
     "execution_count": 235,
     "metadata": {},
     "output_type": "execute_result"
    }
   ],
   "source": [
    "cardio_df2=cardio_df2.drop(['gender_2','weight'],axis=1)\n",
    "cardio_df2"
   ]
  },
  {
   "cell_type": "markdown",
   "metadata": {},
   "source": [
    "## Creating  Features array and Target array"
   ]
  },
  {
   "cell_type": "code",
   "execution_count": 236,
   "metadata": {
    "scrolled": true
   },
   "outputs": [],
   "source": [
    "X = cardio_df2.drop('cardio',axis=1)\n",
    "y = cardio_df2.iloc[:,-3]"
   ]
  },
  {
   "cell_type": "markdown",
   "metadata": {},
   "source": [
    "# Logistic Regression"
   ]
  },
  {
   "cell_type": "code",
   "execution_count": 237,
   "metadata": {},
   "outputs": [],
   "source": [
    "#preprocessing\n",
    "sc=StandardScaler()\n",
    "X_scaled=sc.fit_transform(X)"
   ]
  },
  {
   "cell_type": "markdown",
   "metadata": {},
   "source": [
    "### Parameter tuning using GridSearchCV"
   ]
  },
  {
   "cell_type": "code",
   "execution_count": 238,
   "metadata": {},
   "outputs": [
    {
     "name": "stdout",
     "output_type": "stream",
     "text": [
      "{'C': 0.1} 0.7227158180408374\n"
     ]
    }
   ],
   "source": [
    "param_dict = {\n",
    "               'C':[0.001,0.01,0.1,1,10,100,1000]\n",
    "                                  \n",
    "              }\n",
    "clf = GridSearchCV(LogisticRegression(),param_dict,cv=4)\n",
    "clf.fit(X_scaled,y)\n",
    "clf.best_params_\n",
    "clf.best_score_\n",
    "print(clf.best_params_,clf.best_score_)"
   ]
  },
  {
   "cell_type": "markdown",
   "metadata": {},
   "source": [
    "### Simple Train/Test split cross-validation"
   ]
  },
  {
   "cell_type": "code",
   "execution_count": 240,
   "metadata": {},
   "outputs": [
    {
     "name": "stdout",
     "output_type": "stream",
     "text": [
      "Confusion Matrix\n",
      "[[6267 1645]\n",
      " [2691 4873]] \n",
      "\n",
      "Classification Report\n",
      "              precision    recall  f1-score   support\n",
      "\n",
      "           0       0.70      0.79      0.74      7912\n",
      "           1       0.75      0.64      0.69      7564\n",
      "\n",
      "    accuracy                           0.72     15476\n",
      "   macro avg       0.72      0.72      0.72     15476\n",
      "weighted avg       0.72      0.72      0.72     15476\n",
      "\n"
     ]
    }
   ],
   "source": [
    "#split the data\n",
    "X_train, X_test, y_train, y_test = train_test_split(X,y,random_state=0)\n",
    "\n",
    "\n",
    "#preprocessing\n",
    "#sc.fit(X_train)\n",
    "X_train = sc.fit_transform(X_train)\n",
    "\n",
    "#training the model\n",
    "model = LogisticRegression(C=0.1)\n",
    "model.fit(X_train,y_train)\n",
    "model.intercept_\n",
    "model.coef_\n",
    "\n",
    "#test the model\n",
    "X_test = sc.transform(X_test)\n",
    "y_pred = model.predict(X_test) \n",
    "\n",
    "#performance measures\n",
    "cm = confusion_matrix(y_test,y_pred)\n",
    "accuracy = accuracy_score(y_test,y_pred)\n",
    "precision = precision_score(y_test,y_pred)\n",
    "tpr = recall_score(y_test,y_pred)\n",
    "print(\"Confusion Matrix\")\n",
    "print(cm,\"\\n\")\n",
    "print(\"Classification Report\")\n",
    "print(classification_report(y_test,y_pred))"
   ]
  },
  {
   "cell_type": "markdown",
   "metadata": {},
   "source": [
    "### k-fold cross-validation for k=4 "
   ]
  },
  {
   "cell_type": "code",
   "execution_count": 241,
   "metadata": {},
   "outputs": [
    {
     "name": "stdout",
     "output_type": "stream",
     "text": [
      "Accuracy score: 0.7227158164144833\n",
      "Precision: 0.7261159694914037\n",
      "Recall: 0.7217126281713739\n"
     ]
    }
   ],
   "source": [
    "model = LogisticRegression(C=0.1)\n",
    "model.fit(X_scaled,y)\n",
    "model.intercept_\n",
    "model.coef_\n",
    "scores = cross_val_score(model,X_scaled,y,cv=4,scoring='accuracy')\n",
    "scores.mean()\n",
    "print('Accuracy score:',scores.mean()) #accuracy\n",
    "scores_precision=cross_val_score(model,X_scaled,y,cv=4,scoring='precision_macro')\n",
    "print('Precision:',scores_precision.mean())#precision'''\n",
    "scores_recall=cross_val_score(model,X_scaled,y,cv=4,scoring='recall_macro')\n",
    "print('Recall:',scores_recall.mean())"
   ]
  },
  {
   "cell_type": "markdown",
   "metadata": {},
   "source": [
    "# KNN classification"
   ]
  },
  {
   "cell_type": "markdown",
   "metadata": {},
   "source": [
    "### Parameter tuning using GridSearchCV"
   ]
  },
  {
   "cell_type": "code",
   "execution_count": 242,
   "metadata": {},
   "outputs": [
    {
     "name": "stdout",
     "output_type": "stream",
     "text": [
      "{'n_neighbors': 10} 0.7094210390281727\n"
     ]
    }
   ],
   "source": [
    "from sklearn.neighbors import KNeighborsClassifier\n",
    "\n",
    "X = cardio_df2.drop('cardio',axis=1)\n",
    "y = cardio_df2.iloc[:,-3]\n",
    "\n",
    "sc=StandardScaler()\n",
    "X_scaled=sc.fit_transform(X)\n",
    "\n",
    "param_dict = {\n",
    "                'n_neighbors':range(1,11)\n",
    "                                  \n",
    "                 }\n",
    "clf = GridSearchCV(KNeighborsClassifier(),param_dict,cv=4)\n",
    "clf.fit(X_scaled,y)\n",
    "clf.best_params_\n",
    "clf.best_score_\n",
    "print(clf.best_params_,clf.best_score_)"
   ]
  },
  {
   "cell_type": "markdown",
   "metadata": {},
   "source": [
    "### Simple Train/Test split cross-validation"
   ]
  },
  {
   "cell_type": "code",
   "execution_count": 243,
   "metadata": {},
   "outputs": [
    {
     "name": "stdout",
     "output_type": "stream",
     "text": [
      "Confusion Matrix\n",
      "[[6215 1697]\n",
      " [2806 4758]] \n",
      "\n",
      "Classification Report\n",
      "              precision    recall  f1-score   support\n",
      "\n",
      "           0       0.69      0.79      0.73      7912\n",
      "           1       0.74      0.63      0.68      7564\n",
      "\n",
      "    accuracy                           0.71     15476\n",
      "   macro avg       0.71      0.71      0.71     15476\n",
      "weighted avg       0.71      0.71      0.71     15476\n",
      "\n"
     ]
    }
   ],
   "source": [
    "#split the data\n",
    "X_train, X_test, y_train, y_test = train_test_split(X,y,random_state=0)\n",
    "\n",
    "X_train_scaled=sc.fit_transform(X_train)\n",
    "X_test_scaled = sc.transform(X_test)\n",
    "\n",
    "model = KNeighborsClassifier(n_neighbors=10)\n",
    "model.fit(X_train_scaled,y_train)\n",
    "y_pred = model.predict(X_test_scaled)\n",
    "\n",
    "\n",
    "accuracy_score(y_test,y_pred)\n",
    "precision = precision_score(y_test,y_pred,average='macro')\n",
    "tpr = recall_score(y_test,y_pred,average='macro')\n",
    "\n",
    "cm = confusion_matrix(y_test,y_pred)\n",
    "print(\"Confusion Matrix\")\n",
    "print(cm,\"\\n\")\n",
    "print(\"Classification Report\")\n",
    "print(classification_report(y_test,y_pred))"
   ]
  },
  {
   "cell_type": "markdown",
   "metadata": {},
   "source": [
    "### k-fold cross-validation k=4"
   ]
  },
  {
   "cell_type": "code",
   "execution_count": 244,
   "metadata": {},
   "outputs": [
    {
     "name": "stdout",
     "output_type": "stream",
     "text": [
      "Accuracy score: 0.7094210405067499\n",
      "Precision: 0.7133721686878078\n",
      "Recall: 0.708306846811663\n"
     ]
    }
   ],
   "source": [
    "model = KNeighborsClassifier(n_neighbors=10)\n",
    "scores = cross_val_score(model,X_scaled,y,cv=4,scoring='accuracy')\n",
    "scores.mean()\n",
    "print('Accuracy score:',scores.mean()) #accuracy\n",
    "scores_precision=cross_val_score(model,X_scaled,y,cv=4,scoring='precision_macro')\n",
    "print('Precision:',scores_precision.mean())#precision'''\n",
    "scores_recall=cross_val_score(model,X_scaled,y,cv=4,scoring='recall_macro')\n",
    "print('Recall:',scores_recall.mean())"
   ]
  },
  {
   "cell_type": "markdown",
   "metadata": {},
   "source": [
    "# Random Forest Classifier"
   ]
  },
  {
   "cell_type": "code",
   "execution_count": 245,
   "metadata": {},
   "outputs": [],
   "source": [
    "from sklearn.ensemble import RandomForestClassifier\n",
    "X = cardio_df2.drop('cardio',axis=1)\n",
    "y = cardio_df2.iloc[:,-3]"
   ]
  },
  {
   "cell_type": "markdown",
   "metadata": {},
   "source": [
    "### Parameter tuning using GridSearchCV"
   ]
  },
  {
   "cell_type": "code",
   "execution_count": 246,
   "metadata": {},
   "outputs": [
    {
     "name": "stdout",
     "output_type": "stream",
     "text": [
      "{'n_estimators': 70} 0.6993247609201344\n"
     ]
    }
   ],
   "source": [
    "param_dict= { 'n_estimators': range(10,111,10)}\n",
    "clf = GridSearchCV(RandomForestClassifier(),param_dict,cv=4)\n",
    "clf.fit(X,y)\n",
    "clf.best_params_\n",
    "clf.best_score_\n",
    "print(clf.best_params_,clf.best_score_)\n",
    "#{'n_estimators': 90} 0.6854655508493207"
   ]
  },
  {
   "cell_type": "markdown",
   "metadata": {},
   "source": [
    "### Simple Train/Test split cross-validation"
   ]
  },
  {
   "cell_type": "code",
   "execution_count": 253,
   "metadata": {},
   "outputs": [
    {
     "name": "stdout",
     "output_type": "stream",
     "text": [
      "Confusion Matrix\n",
      "[[5679 2233]\n",
      " [2473 5091]] \n",
      "\n",
      "Classification Report\n",
      "              precision    recall  f1-score   support\n",
      "\n",
      "           0       0.70      0.72      0.71      7912\n",
      "           1       0.70      0.67      0.68      7564\n",
      "\n",
      "    accuracy                           0.70     15476\n",
      "   macro avg       0.70      0.70      0.70     15476\n",
      "weighted avg       0.70      0.70      0.70     15476\n",
      "\n"
     ]
    }
   ],
   "source": [
    "X_train, X_test, y_train, y_test = train_test_split(X,y,random_state=0)\n",
    "rfc=RandomForestClassifier(n_estimators=70,random_state=0)\n",
    "rfc.fit(X_train,y_train)\n",
    "y_pred = rfc.predict(X_test)\n",
    "\n",
    "accuracy_score(y_test,y_pred)\n",
    "precision = precision_score(y_test,y_pred,average='macro')\n",
    "tpr = recall_score(y_test,y_pred,average='macro')\n",
    "cm = confusion_matrix(y_test,y_pred)\n",
    "print(\"Confusion Matrix\")\n",
    "print(cm,\"\\n\")\n",
    "print(\"Classification Report\")\n",
    "print(classification_report(y_test,y_pred))"
   ]
  },
  {
   "cell_type": "markdown",
   "metadata": {},
   "source": [
    "### k-fold cross-validation k=4"
   ]
  },
  {
   "cell_type": "code",
   "execution_count": 248,
   "metadata": {},
   "outputs": [
    {
     "name": "stdout",
     "output_type": "stream",
     "text": [
      "Accuracy score: 0.6990823285341232\n",
      "Precision: 0.6990932971273253\n",
      "Recall: 0.6988513888582244\n"
     ]
    }
   ],
   "source": [
    "model = RandomForestClassifier(n_estimators=70,random_state=0)\n",
    "scores = cross_val_score(model,X,y,cv=4,scoring='accuracy')\n",
    "scores.mean()\n",
    "print('Accuracy score:',scores.mean()) #accuracy\n",
    "scores_precision=cross_val_score(model,X,y,cv=4,scoring='precision_macro')\n",
    "print('Precision:',scores_precision.mean())#precision'''\n",
    "scores_recall=cross_val_score(model,X,y,cv=4,scoring='recall_macro')\n",
    "print('Recall:',scores_recall.mean())"
   ]
  },
  {
   "cell_type": "markdown",
   "metadata": {},
   "source": [
    "# AdaBoost Classifier"
   ]
  },
  {
   "cell_type": "code",
   "execution_count": 249,
   "metadata": {},
   "outputs": [],
   "source": [
    "from sklearn.ensemble import AdaBoostClassifier\n",
    "X = cardio_df2.drop('cardio',axis=1)\n",
    "y = cardio_df2.iloc[:,-3]"
   ]
  },
  {
   "cell_type": "markdown",
   "metadata": {},
   "source": [
    "### Parameter tuning using GridSearchCV"
   ]
  },
  {
   "cell_type": "code",
   "execution_count": 250,
   "metadata": {},
   "outputs": [
    {
     "name": "stdout",
     "output_type": "stream",
     "text": [
      "{'n_estimators': 10} 0.7275620315326958\n"
     ]
    }
   ],
   "source": [
    "param_dict= { 'n_estimators': range(10,111,10)}\n",
    "\n",
    "clf = GridSearchCV(AdaBoostClassifier(DecisionTreeClassifier(max_depth=5)),param_dict,cv=4)\n",
    "clf.fit(X,y)\n",
    "clf.best_params_\n",
    "clf.best_score_\n",
    "print(clf.best_params_,clf.best_score_) #{'n_estimators': 10} 0.7293312423971509"
   ]
  },
  {
   "cell_type": "markdown",
   "metadata": {},
   "source": [
    "### Simple Train/Test split cross-validation"
   ]
  },
  {
   "cell_type": "code",
   "execution_count": 251,
   "metadata": {},
   "outputs": [
    {
     "name": "stdout",
     "output_type": "stream",
     "text": [
      "Confusion Matrix\n",
      "[[6255 1657]\n",
      " [2598 4966]] \n",
      "\n",
      "Classification Report\n",
      "              precision    recall  f1-score   support\n",
      "\n",
      "           0       0.71      0.79      0.75      7912\n",
      "           1       0.75      0.66      0.70      7564\n",
      "\n",
      "    accuracy                           0.73     15476\n",
      "   macro avg       0.73      0.72      0.72     15476\n",
      "weighted avg       0.73      0.73      0.72     15476\n",
      "\n"
     ]
    }
   ],
   "source": [
    "X_train, X_test, y_train, y_test = train_test_split(X,y,random_state=0)\n",
    "abc=AdaBoostClassifier(DecisionTreeClassifier(max_depth=5),n_estimators=10,random_state=0)\n",
    "abc.fit(X_train,y_train)\n",
    "y_pred = abc.predict(X_test)\n",
    "\n",
    "from sklearn.metrics import classification_report, confusion_matrix, accuracy_score\n",
    "accuracy_score(y_test,y_pred)\n",
    "precision = precision_score(y_test,y_pred,average='macro')\n",
    "tpr = recall_score(y_test,y_pred,average='macro')\n",
    "cm = confusion_matrix(y_test,y_pred)\n",
    "print(\"Confusion Matrix\")\n",
    "print(cm,\"\\n\")\n",
    "print(\"Classification Report\")\n",
    "print(classification_report(y_test,y_pred))"
   ]
  },
  {
   "cell_type": "markdown",
   "metadata": {},
   "source": [
    "### k-fold cross-validation k=4"
   ]
  },
  {
   "cell_type": "code",
   "execution_count": 252,
   "metadata": {
    "scrolled": true
   },
   "outputs": [
    {
     "name": "stdout",
     "output_type": "stream",
     "text": [
      "Accuracy score: 0.727610531719092\n",
      "Precision: 0.7307476336355715\n",
      "Recall: 0.7266591946297916\n"
     ]
    }
   ],
   "source": [
    "model = AdaBoostClassifier(DecisionTreeClassifier(max_depth=5),n_estimators=10,random_state=0)\n",
    "scores = cross_val_score(model,X,y,cv=4,scoring='accuracy')\n",
    "scores.mean()\n",
    "print('Accuracy score:',scores.mean()) #accuracy\n",
    "scores_precision=cross_val_score(model,X,y,cv=4,scoring='precision_macro')\n",
    "print('Precision:',scores_precision.mean())#precision\n",
    "scores_recall=cross_val_score(model,X,y,cv=4,scoring='recall_macro')\n",
    "print('Recall:',scores_recall.mean())"
   ]
  },
  {
   "cell_type": "markdown",
   "metadata": {},
   "source": [
    "- The order of the machine learning models in order of accuracy are Adaboost(73%)> Logistic Regression(72%)> KNN(71%) >Random Forest(70%). In terms of accuracy Adaboost is the best among these four models.\n",
    "- The order of machine learning models in order of False Negative Rate: KNN(35%), Adaboost(33%), Logistic Regression(33%), Random Forest(30%). In terms of FNR Random Forest is the best among these four models.\n"
   ]
  }
 ],
 "metadata": {
  "kernelspec": {
   "display_name": "Python 3",
   "language": "python",
   "name": "python3"
  },
  "language_info": {
   "codemirror_mode": {
    "name": "ipython",
    "version": 3
   },
   "file_extension": ".py",
   "mimetype": "text/x-python",
   "name": "python",
   "nbconvert_exporter": "python",
   "pygments_lexer": "ipython3",
   "version": "3.7.4"
  }
 },
 "nbformat": 4,
 "nbformat_minor": 2
}
